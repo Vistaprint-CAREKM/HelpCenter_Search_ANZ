{
 "cells": [
  {
   "cell_type": "code",
   "execution_count": 84,
   "metadata": {},
   "outputs": [],
   "source": [
    "#import library for analysis\n",
    "import pandas as pd\n",
    "#WordNetLemmatizer for reducing inflection in words to their root form\n",
    "from nltk.stem import WordNetLemmatizer\n",
    "#stopwords \n",
    "from nltk.corpus import stopwords\n",
    "#splits a string using a regular expression\n",
    "from nltk.tokenize import RegexpTokenizer\n",
    "import string"
   ]
  },
  {
   "cell_type": "code",
   "execution_count": 85,
   "metadata": {},
   "outputs": [],
   "source": [
    "#assigning stop words (english library) to variable\n",
    "sw = stopwords.words('english')"
   ]
  },
  {
   "cell_type": "code",
   "execution_count": 106,
   "metadata": {},
   "outputs": [
    {
     "data": {
      "text/html": [
       "<div>\n",
       "<style scoped>\n",
       "    .dataframe tbody tr th:only-of-type {\n",
       "        vertical-align: middle;\n",
       "    }\n",
       "\n",
       "    .dataframe tbody tr th {\n",
       "        vertical-align: top;\n",
       "    }\n",
       "\n",
       "    .dataframe thead th {\n",
       "        text-align: right;\n",
       "    }\n",
       "</style>\n",
       "<table border=\"1\" class=\"dataframe\">\n",
       "  <thead>\n",
       "    <tr style=\"text-align: right;\">\n",
       "      <th></th>\n",
       "      <th>Search Term</th>\n",
       "      <th>Total Unique Searches</th>\n",
       "      <th>Results Pageviews / Search</th>\n",
       "      <th>% Search Exits</th>\n",
       "      <th>% Search Refinements</th>\n",
       "      <th>Time after Search</th>\n",
       "      <th>Avg. Search Depth</th>\n",
       "    </tr>\n",
       "  </thead>\n",
       "  <tbody>\n",
       "    <tr>\n",
       "      <th>0</th>\n",
       "      <td>size</td>\n",
       "      <td>121</td>\n",
       "      <td>1.115702</td>\n",
       "      <td>0.049587</td>\n",
       "      <td>0.214815</td>\n",
       "      <td>711.801653</td>\n",
       "      <td>10.462810</td>\n",
       "    </tr>\n",
       "    <tr>\n",
       "      <th>1</th>\n",
       "      <td>shipping</td>\n",
       "      <td>116</td>\n",
       "      <td>1.215517</td>\n",
       "      <td>0.129310</td>\n",
       "      <td>0.255319</td>\n",
       "      <td>356.250000</td>\n",
       "      <td>3.689655</td>\n",
       "    </tr>\n",
       "    <tr>\n",
       "      <th>2</th>\n",
       "      <td>payment</td>\n",
       "      <td>97</td>\n",
       "      <td>1.185567</td>\n",
       "      <td>0.257732</td>\n",
       "      <td>0.434783</td>\n",
       "      <td>278.876289</td>\n",
       "      <td>3.639175</td>\n",
       "    </tr>\n",
       "    <tr>\n",
       "      <th>3</th>\n",
       "      <td>tax invoice</td>\n",
       "      <td>90</td>\n",
       "      <td>1.155556</td>\n",
       "      <td>0.422222</td>\n",
       "      <td>0.038462</td>\n",
       "      <td>136.933333</td>\n",
       "      <td>2.277778</td>\n",
       "    </tr>\n",
       "    <tr>\n",
       "      <th>4</th>\n",
       "      <td>delivery</td>\n",
       "      <td>86</td>\n",
       "      <td>1.151163</td>\n",
       "      <td>0.232558</td>\n",
       "      <td>0.222222</td>\n",
       "      <td>351.313953</td>\n",
       "      <td>4.825581</td>\n",
       "    </tr>\n",
       "    <tr>\n",
       "      <th>5</th>\n",
       "      <td>invoice</td>\n",
       "      <td>85</td>\n",
       "      <td>1.223529</td>\n",
       "      <td>0.247059</td>\n",
       "      <td>0.076923</td>\n",
       "      <td>311.023529</td>\n",
       "      <td>3.400000</td>\n",
       "    </tr>\n",
       "    <tr>\n",
       "      <th>6</th>\n",
       "      <td>template</td>\n",
       "      <td>85</td>\n",
       "      <td>1.129412</td>\n",
       "      <td>0.058824</td>\n",
       "      <td>0.343750</td>\n",
       "      <td>614.400000</td>\n",
       "      <td>5.976471</td>\n",
       "    </tr>\n",
       "    <tr>\n",
       "      <th>7</th>\n",
       "      <td>colour</td>\n",
       "      <td>67</td>\n",
       "      <td>1.119403</td>\n",
       "      <td>0.059701</td>\n",
       "      <td>0.373333</td>\n",
       "      <td>461.194030</td>\n",
       "      <td>7.298507</td>\n",
       "    </tr>\n",
       "    <tr>\n",
       "      <th>8</th>\n",
       "      <td>background colour</td>\n",
       "      <td>64</td>\n",
       "      <td>1.281250</td>\n",
       "      <td>0.093750</td>\n",
       "      <td>0.378049</td>\n",
       "      <td>961.437500</td>\n",
       "      <td>8.937500</td>\n",
       "    </tr>\n",
       "    <tr>\n",
       "      <th>9</th>\n",
       "      <td>bleed</td>\n",
       "      <td>59</td>\n",
       "      <td>1.101695</td>\n",
       "      <td>0.033898</td>\n",
       "      <td>0.292308</td>\n",
       "      <td>509.627119</td>\n",
       "      <td>7.610169</td>\n",
       "    </tr>\n",
       "  </tbody>\n",
       "</table>\n",
       "</div>"
      ],
      "text/plain": [
       "         Search Term  Total Unique Searches  Results Pageviews / Search  \\\n",
       "0               size                    121                    1.115702   \n",
       "1           shipping                    116                    1.215517   \n",
       "2            payment                     97                    1.185567   \n",
       "3        tax invoice                     90                    1.155556   \n",
       "4           delivery                     86                    1.151163   \n",
       "5            invoice                     85                    1.223529   \n",
       "6           template                     85                    1.129412   \n",
       "7             colour                     67                    1.119403   \n",
       "8  background colour                     64                    1.281250   \n",
       "9              bleed                     59                    1.101695   \n",
       "\n",
       "   % Search Exits  % Search Refinements  Time after Search  Avg. Search Depth  \n",
       "0        0.049587              0.214815         711.801653          10.462810  \n",
       "1        0.129310              0.255319         356.250000           3.689655  \n",
       "2        0.257732              0.434783         278.876289           3.639175  \n",
       "3        0.422222              0.038462         136.933333           2.277778  \n",
       "4        0.232558              0.222222         351.313953           4.825581  \n",
       "5        0.247059              0.076923         311.023529           3.400000  \n",
       "6        0.058824              0.343750         614.400000           5.976471  \n",
       "7        0.059701              0.373333         461.194030           7.298507  \n",
       "8        0.093750              0.378049         961.437500           8.937500  \n",
       "9        0.033898              0.292308         509.627119           7.610169  "
      ]
     },
     "execution_count": 106,
     "metadata": {},
     "output_type": "execute_result"
    }
   ],
   "source": [
    "#read raw GA report\n",
    "data = pd.read_excel('GA-ANZ_Search_Terms20201201-20210418.xlsx')\n",
    "data.head(10)"
   ]
  },
  {
   "cell_type": "code",
   "execution_count": 108,
   "metadata": {},
   "outputs": [],
   "source": [
    "# cols lower case and spaces repalced with underscore\n",
    "cols = []\n",
    "for i in range(len(data.columns)):\n",
    "    cols.append(data.columns[i].lower().replace(' ','_'))\n",
    "data.columns = cols"
   ]
  },
  {
   "cell_type": "code",
   "execution_count": 109,
   "metadata": {},
   "outputs": [
    {
     "data": {
      "text/plain": [
       "0                                                                                                                          size\n",
       "1                                                                                                                      shipping\n",
       "2                                                                                                                       payment\n",
       "3                                                                                                                   tax invoice\n",
       "4                                                                                                                      delivery\n",
       "                                                                  ...                                                          \n",
       "19995                                                                                  your contract number is missing a number\n",
       "19996                                                                                       your design studio isn't working...\n",
       "19997                                                                                                             your holidays\n",
       "19998                          your image was not uploaded because of an unknown error. try again, or upload a different image.\n",
       "19999    your new website is extremely frustrating and difficult to navigate from a customer who's dealt with you for 11 years!\n",
       "Name: search_term, Length: 20000, dtype: object"
      ]
     },
     "execution_count": 109,
     "metadata": {},
     "output_type": "execute_result"
    }
   ],
   "source": [
    "#selecting only search terms col\n",
    "df = data.iloc[:, 0]\n",
    "df"
   ]
  },
  {
   "cell_type": "code",
   "execution_count": 110,
   "metadata": {},
   "outputs": [],
   "source": [
    "#function to remove punctuation from search terms ('.', ',' ect)\n",
    "def remove_punctuation(text):\n",
    "    no_punct = ''.join([c for c in text if c not in string.punctuation])\n",
    "    return no_punct"
   ]
  },
  {
   "cell_type": "code",
   "execution_count": 111,
   "metadata": {},
   "outputs": [
    {
     "data": {
      "text/plain": [
       "0                                                                                                                        size\n",
       "1                                                                                                                    shipping\n",
       "2                                                                                                                     payment\n",
       "3                                                                                                                 tax invoice\n",
       "4                                                                                                                    delivery\n",
       "                                                                 ...                                                         \n",
       "19995                                                                                your contract number is missing a number\n",
       "19996                                                                                         your design studio isnt working\n",
       "19997                                                                                                           your holidays\n",
       "19998                           your image was not uploaded because of an unknown error try again or upload a different image\n",
       "19999    your new website is extremely frustrating and difficult to navigate from a customer whos dealt with you for 11 years\n",
       "Name: search_term, Length: 20000, dtype: object"
      ]
     },
     "execution_count": 111,
     "metadata": {},
     "output_type": "execute_result"
    }
   ],
   "source": [
    "#applying function row by row\n",
    "df = df.apply(lambda x: remove_punctuation(x))\n",
    "df"
   ]
  },
  {
   "cell_type": "code",
   "execution_count": 112,
   "metadata": {},
   "outputs": [
    {
     "data": {
      "text/plain": [
       "0                                                                                                                                           [size]\n",
       "1                                                                                                                                       [shipping]\n",
       "2                                                                                                                                        [payment]\n",
       "3                                                                                                                                   [tax, invoice]\n",
       "4                                                                                                                                       [delivery]\n",
       "                                                                           ...                                                                    \n",
       "19995                                                                                             [your, contract, number, is, missing, a, number]\n",
       "19996                                                                                                        [your, design, studio, isnt, working]\n",
       "19997                                                                                                                             [your, holidays]\n",
       "19998                              [your, image, was, not, uploaded, because, of, an, unknown, error, try, again, or, upload, a, different, image]\n",
       "19999    [your, new, website, is, extremely, frustrating, and, difficult, to, navigate, from, a, customer, whos, dealt, with, you, for, 11, years]\n",
       "Name: search_term, Length: 20000, dtype: object"
      ]
     },
     "execution_count": 112,
     "metadata": {},
     "output_type": "execute_result"
    }
   ],
   "source": [
    "#split strings\n",
    "tokenizer = RegexpTokenizer(r'\\w+')\n",
    "df = df.apply(lambda x: tokenizer.tokenize(x.lower()))\n",
    "df"
   ]
  },
  {
   "cell_type": "code",
   "execution_count": 113,
   "metadata": {},
   "outputs": [],
   "source": [
    "#function to remove stop words\n",
    "def remove_stopwords(text):\n",
    "    words =  [w for w in text if w not in stopwords.words('english')]\n",
    "    return words"
   ]
  },
  {
   "cell_type": "code",
   "execution_count": 114,
   "metadata": {},
   "outputs": [
    {
     "data": {
      "text/plain": [
       "0                                                                                               [size]\n",
       "1                                                                                           [shipping]\n",
       "2                                                                                            [payment]\n",
       "3                                                                                       [tax, invoice]\n",
       "4                                                                                           [delivery]\n",
       "                                                     ...                                              \n",
       "19995                                                              [contract, number, missing, number]\n",
       "19996                                                                  [design, studio, isnt, working]\n",
       "19997                                                                                       [holidays]\n",
       "19998                                 [image, uploaded, unknown, error, try, upload, different, image]\n",
       "19999    [new, website, extremely, frustrating, difficult, navigate, customer, whos, dealt, 11, years]\n",
       "Name: search_term, Length: 20000, dtype: object"
      ]
     },
     "execution_count": 114,
     "metadata": {},
     "output_type": "execute_result"
    }
   ],
   "source": [
    "#applying function row by row\n",
    "df = df.apply(lambda x: remove_stopwords(x))\n",
    "df"
   ]
  },
  {
   "cell_type": "code",
   "execution_count": 115,
   "metadata": {},
   "outputs": [],
   "source": [
    "lemmatizer = WordNetLemmatizer()\n",
    "#function to iterate through the column\n",
    "def word_lemmatizer(text):\n",
    "    lem_text = ' '.join([lemmatizer.lemmatize(i) for i in text])\n",
    "    return lem_text"
   ]
  },
  {
   "cell_type": "code",
   "execution_count": 116,
   "metadata": {},
   "outputs": [
    {
     "data": {
      "text/plain": [
       "0                                                                                   size\n",
       "1                                                                               shipping\n",
       "2                                                                                payment\n",
       "3                                                                            tax invoice\n",
       "4                                                                               delivery\n",
       "                                              ...                                       \n",
       "19995                                                     contract number missing number\n",
       "19996                                                         design studio isnt working\n",
       "19997                                                                            holiday\n",
       "19998                            image uploaded unknown error try upload different image\n",
       "19999    new website extremely frustrating difficult navigate customer who dealt 11 year\n",
       "Name: search_term, Length: 20000, dtype: object"
      ]
     },
     "execution_count": 116,
     "metadata": {},
     "output_type": "execute_result"
    }
   ],
   "source": [
    "#lemmatize the word to the word root\n",
    "df = df.apply(lambda x: word_lemmatizer(x))\n",
    "df"
   ]
  },
  {
   "cell_type": "code",
   "execution_count": 117,
   "metadata": {},
   "outputs": [],
   "source": [
    "#looping through column and storing values to a list\n",
    "text = []\n",
    "for i in df:\n",
    "    text.append(i)"
   ]
  },
  {
   "cell_type": "code",
   "execution_count": 118,
   "metadata": {},
   "outputs": [],
   "source": [
    "#creating one string in order to visualize a wordcloud\n",
    "unique_str = (\" \").join(text)"
   ]
  },
  {
   "cell_type": "code",
   "execution_count": 119,
   "metadata": {},
   "outputs": [],
   "source": [
    "#importing wordcloud for visualization\n",
    "from wordcloud import WordCloud\n",
    "import matplotlib.pyplot as plt"
   ]
  },
  {
   "cell_type": "code",
   "execution_count": 120,
   "metadata": {},
   "outputs": [
    {
     "data": {
      "image/png": "[encoded data removed]",
      "text/plain": [
       "<Figure size 720x360 with 1 Axes>"
      ]
     },
     "metadata": {
      "needs_background": "light"
     },
     "output_type": "display_data"
    }
   ],
   "source": [
    "# show 50 words in the wordcloud\n",
    "wordcloud = WordCloud(width=500, height=500, max_words=50).generate(unique_str)\n",
    "plt.figure(figsize=(10,5))\n",
    "# plot the WordCloud image \n",
    "\n",
    "plt.imshow(wordcloud)\n",
    "plt.axis(\"off\")\n",
    "plt.margins(x=0, y=0)\n",
    "plt.show()"
   ]
  },
  {
   "cell_type": "code",
   "execution_count": 121,
   "metadata": {},
   "outputs": [],
   "source": [
    "#splitting into multiple strings for barplot visualization\n",
    "word_list = pd.DataFrame(unique_str.split())\n",
    "word_list_100 = word_list.value_counts()[word_list.value_counts()>100]"
   ]
  },
  {
   "cell_type": "code",
   "execution_count": 122,
   "metadata": {},
   "outputs": [
    {
     "data": {
      "text/plain": [
       "<AxesSubplot:xlabel='0'>"
      ]
     },
     "execution_count": 122,
     "metadata": {},
     "output_type": "execute_result"
    },
    {
     "data": {
      "image/png": "[encoded data removed]",
      "text/plain": [
       "<Figure size 432x288 with 1 Axes>"
      ]
     },
     "metadata": {
      "needs_background": "light"
     },
     "output_type": "display_data"
    }
   ],
   "source": [
    "#barplot where count is greater than 400\n",
    "word_list.value_counts()[word_list.value_counts()>400].plot(kind='bar')"
   ]
  },
  {
   "cell_type": "code",
   "execution_count": 123,
   "metadata": {},
   "outputs": [],
   "source": [
    "#function to count words\n",
    "def word_count_func(str):\n",
    "    counts = dict()\n",
    "    words = str.split()\n",
    "\n",
    "    for word in words:\n",
    "        if word in counts:\n",
    "            counts[word] += 1\n",
    "        else:\n",
    "            counts[word] = 1\n",
    "\n",
    "    return counts"
   ]
  },
  {
   "cell_type": "code",
   "execution_count": 124,
   "metadata": {},
   "outputs": [],
   "source": [
    "#applying function to the unique_str\n",
    "word_count = word_count_func(unique_str)"
   ]
  },
  {
   "cell_type": "code",
   "execution_count": 125,
   "metadata": {},
   "outputs": [
    {
     "data": {
      "text/plain": [
       "dict"
      ]
     },
     "execution_count": 125,
     "metadata": {},
     "output_type": "execute_result"
    }
   ],
   "source": [
    "type(word_count)"
   ]
  },
  {
   "cell_type": "code",
   "execution_count": 126,
   "metadata": {},
   "outputs": [
    {
     "data": {
      "text/html": [
       "<div>\n",
       "<style scoped>\n",
       "    .dataframe tbody tr th:only-of-type {\n",
       "        vertical-align: middle;\n",
       "    }\n",
       "\n",
       "    .dataframe tbody tr th {\n",
       "        vertical-align: top;\n",
       "    }\n",
       "\n",
       "    .dataframe thead th {\n",
       "        text-align: right;\n",
       "    }\n",
       "</style>\n",
       "<table border=\"1\" class=\"dataframe\">\n",
       "  <thead>\n",
       "    <tr style=\"text-align: right;\">\n",
       "      <th></th>\n",
       "      <th>search_term</th>\n",
       "      <th>count</th>\n",
       "    </tr>\n",
       "  </thead>\n",
       "  <tbody>\n",
       "    <tr>\n",
       "      <th>0</th>\n",
       "      <td>card</td>\n",
       "      <td>2897</td>\n",
       "    </tr>\n",
       "    <tr>\n",
       "      <th>1</th>\n",
       "      <td>order</td>\n",
       "      <td>2528</td>\n",
       "    </tr>\n",
       "    <tr>\n",
       "      <th>2</th>\n",
       "      <td>business</td>\n",
       "      <td>1736</td>\n",
       "    </tr>\n",
       "    <tr>\n",
       "      <th>3</th>\n",
       "      <td>change</td>\n",
       "      <td>1641</td>\n",
       "    </tr>\n",
       "    <tr>\n",
       "      <th>4</th>\n",
       "      <td>design</td>\n",
       "      <td>1406</td>\n",
       "    </tr>\n",
       "    <tr>\n",
       "      <th>...</th>\n",
       "      <td>...</td>\n",
       "      <td>...</td>\n",
       "    </tr>\n",
       "    <tr>\n",
       "      <th>6342</th>\n",
       "      <td>dupicate</td>\n",
       "      <td>1</td>\n",
       "    </tr>\n",
       "    <tr>\n",
       "      <th>6343</th>\n",
       "      <td>34</td>\n",
       "      <td>1</td>\n",
       "    </tr>\n",
       "    <tr>\n",
       "      <th>6344</th>\n",
       "      <td>worth</td>\n",
       "      <td>1</td>\n",
       "    </tr>\n",
       "    <tr>\n",
       "      <th>6345</th>\n",
       "      <td>backyard</td>\n",
       "      <td>1</td>\n",
       "    </tr>\n",
       "    <tr>\n",
       "      <th>6346</th>\n",
       "      <td>dealt</td>\n",
       "      <td>1</td>\n",
       "    </tr>\n",
       "  </tbody>\n",
       "</table>\n",
       "<p>6347 rows × 2 columns</p>\n",
       "</div>"
      ],
      "text/plain": [
       "     search_term  count\n",
       "0           card   2897\n",
       "1          order   2528\n",
       "2       business   1736\n",
       "3         change   1641\n",
       "4         design   1406\n",
       "...          ...    ...\n",
       "6342    dupicate      1\n",
       "6343          34      1\n",
       "6344       worth      1\n",
       "6345    backyard      1\n",
       "6346       dealt      1\n",
       "\n",
       "[6347 rows x 2 columns]"
      ]
     },
     "execution_count": 126,
     "metadata": {},
     "output_type": "execute_result"
    }
   ],
   "source": [
    "#converting dict to a dataframe\n",
    "search_terms = pd.DataFrame(word_count.items())\n",
    "#renaming columns\n",
    "search_terms.columns = ['search_term', 'count']\n",
    "#sorting dataframe decending and reset index\n",
    "search_terms_ordered = search_terms.sort_values(['count'], ascending=False).reset_index(drop=True)\n",
    "search_terms_ordered"
   ]
  },
  {
   "cell_type": "code",
   "execution_count": 128,
   "metadata": {},
   "outputs": [
    {
     "data": {
      "text/plain": [
       "0                                                                                                                          size\n",
       "1                                                                                                                      shipping\n",
       "2                                                                                                                       payment\n",
       "3                                                                                                                   tax invoice\n",
       "4                                                                                                                      delivery\n",
       "                                                                  ...                                                          \n",
       "19995                                                                                  your contract number is missing a number\n",
       "19996                                                                                       your design studio isn't working...\n",
       "19997                                                                                                             your holidays\n",
       "19998                          your image was not uploaded because of an unknown error. try again, or upload a different image.\n",
       "19999    your new website is extremely frustrating and difficult to navigate from a customer who's dealt with you for 11 years!\n",
       "Name: search_term, Length: 20000, dtype: object"
      ]
     },
     "execution_count": 128,
     "metadata": {},
     "output_type": "execute_result"
    }
   ],
   "source": [
    "#reading orignal GA data to compare with top search terms\n",
    "data_or = data['search_term']\n",
    "data_or"
   ]
  },
  {
   "cell_type": "code",
   "execution_count": 130,
   "metadata": {},
   "outputs": [
    {
     "data": {
      "text/html": [
       "<div>\n",
       "<style scoped>\n",
       "    .dataframe tbody tr th:only-of-type {\n",
       "        vertical-align: middle;\n",
       "    }\n",
       "\n",
       "    .dataframe tbody tr th {\n",
       "        vertical-align: top;\n",
       "    }\n",
       "\n",
       "    .dataframe thead th {\n",
       "        text-align: right;\n",
       "    }\n",
       "</style>\n",
       "<table border=\"1\" class=\"dataframe\">\n",
       "  <thead>\n",
       "    <tr style=\"text-align: right;\">\n",
       "      <th></th>\n",
       "      <th>search_term</th>\n",
       "      <th>total_unique_searches</th>\n",
       "      <th>results_pageviews_/_search</th>\n",
       "      <th>%_search_exits</th>\n",
       "      <th>%_search_refinements</th>\n",
       "      <th>time_after_search</th>\n",
       "      <th>avg._search_depth</th>\n",
       "    </tr>\n",
       "  </thead>\n",
       "  <tbody>\n",
       "    <tr>\n",
       "      <th>16</th>\n",
       "      <td>business cards</td>\n",
       "      <td>48</td>\n",
       "      <td>1.250000</td>\n",
       "      <td>0.187500</td>\n",
       "      <td>0.166667</td>\n",
       "      <td>992.770833</td>\n",
       "      <td>11.625000</td>\n",
       "    </tr>\n",
       "    <tr>\n",
       "      <th>53</th>\n",
       "      <td>business card size</td>\n",
       "      <td>24</td>\n",
       "      <td>1.000000</td>\n",
       "      <td>0.083333</td>\n",
       "      <td>0.250000</td>\n",
       "      <td>471.250000</td>\n",
       "      <td>3.791667</td>\n",
       "    </tr>\n",
       "    <tr>\n",
       "      <th>60</th>\n",
       "      <td>business card template</td>\n",
       "      <td>22</td>\n",
       "      <td>1.045455</td>\n",
       "      <td>0.045455</td>\n",
       "      <td>0.304348</td>\n",
       "      <td>337.045455</td>\n",
       "      <td>4.136364</td>\n",
       "    </tr>\n",
       "    <tr>\n",
       "      <th>64</th>\n",
       "      <td>business card</td>\n",
       "      <td>21</td>\n",
       "      <td>1.285714</td>\n",
       "      <td>0.142857</td>\n",
       "      <td>0.259259</td>\n",
       "      <td>309.571429</td>\n",
       "      <td>3.619048</td>\n",
       "    </tr>\n",
       "    <tr>\n",
       "      <th>111</th>\n",
       "      <td>credit card</td>\n",
       "      <td>14</td>\n",
       "      <td>1.000000</td>\n",
       "      <td>0.142857</td>\n",
       "      <td>0.428571</td>\n",
       "      <td>559.428571</td>\n",
       "      <td>4.000000</td>\n",
       "    </tr>\n",
       "    <tr>\n",
       "      <th>...</th>\n",
       "      <td>...</td>\n",
       "      <td>...</td>\n",
       "      <td>...</td>\n",
       "      <td>...</td>\n",
       "      <td>...</td>\n",
       "      <td>...</td>\n",
       "      <td>...</td>\n",
       "    </tr>\n",
       "    <tr>\n",
       "      <th>19981</th>\n",
       "      <td>you have to buy 100 thank you cards, or can i buy less?</td>\n",
       "      <td>1</td>\n",
       "      <td>1.000000</td>\n",
       "      <td>0.000000</td>\n",
       "      <td>0.000000</td>\n",
       "      <td>22.000000</td>\n",
       "      <td>1.000000</td>\n",
       "    </tr>\n",
       "    <tr>\n",
       "      <th>19984</th>\n",
       "      <td>you printed business cards for our deerskin crafts business.</td>\n",
       "      <td>1</td>\n",
       "      <td>1.000000</td>\n",
       "      <td>0.000000</td>\n",
       "      <td>0.000000</td>\n",
       "      <td>242.000000</td>\n",
       "      <td>4.000000</td>\n",
       "    </tr>\n",
       "    <tr>\n",
       "      <th>19985</th>\n",
       "      <td>you sent incorrect buisness cards</td>\n",
       "      <td>1</td>\n",
       "      <td>1.000000</td>\n",
       "      <td>0.000000</td>\n",
       "      <td>1.000000</td>\n",
       "      <td>40.000000</td>\n",
       "      <td>0.000000</td>\n",
       "    </tr>\n",
       "    <tr>\n",
       "      <th>19987</th>\n",
       "      <td>you sent me cards without envelopes that fit</td>\n",
       "      <td>1</td>\n",
       "      <td>1.000000</td>\n",
       "      <td>1.000000</td>\n",
       "      <td>0.000000</td>\n",
       "      <td>0.000000</td>\n",
       "      <td>0.000000</td>\n",
       "    </tr>\n",
       "    <tr>\n",
       "      <th>19991</th>\n",
       "      <td>you used to do spot varnish on the business cards. do you still offer that?</td>\n",
       "      <td>1</td>\n",
       "      <td>1.000000</td>\n",
       "      <td>0.000000</td>\n",
       "      <td>0.000000</td>\n",
       "      <td>642.000000</td>\n",
       "      <td>3.000000</td>\n",
       "    </tr>\n",
       "  </tbody>\n",
       "</table>\n",
       "<p>2895 rows × 7 columns</p>\n",
       "</div>"
      ],
      "text/plain": [
       "                                                                       search_term  \\\n",
       "16                                                                  business cards   \n",
       "53                                                              business card size   \n",
       "60                                                          business card template   \n",
       "64                                                                   business card   \n",
       "111                                                                    credit card   \n",
       "...                                                                            ...   \n",
       "19981                      you have to buy 100 thank you cards, or can i buy less?   \n",
       "19984                 you printed business cards for our deerskin crafts business.   \n",
       "19985                                            you sent incorrect buisness cards   \n",
       "19987                                 you sent me cards without envelopes that fit   \n",
       "19991  you used to do spot varnish on the business cards. do you still offer that?   \n",
       "\n",
       "       total_unique_searches  results_pageviews_/_search  %_search_exits  \\\n",
       "16                        48                    1.250000        0.187500   \n",
       "53                        24                    1.000000        0.083333   \n",
       "60                        22                    1.045455        0.045455   \n",
       "64                        21                    1.285714        0.142857   \n",
       "111                       14                    1.000000        0.142857   \n",
       "...                      ...                         ...             ...   \n",
       "19981                      1                    1.000000        0.000000   \n",
       "19984                      1                    1.000000        0.000000   \n",
       "19985                      1                    1.000000        0.000000   \n",
       "19987                      1                    1.000000        1.000000   \n",
       "19991                      1                    1.000000        0.000000   \n",
       "\n",
       "       %_search_refinements  time_after_search  avg._search_depth  \n",
       "16                 0.166667         992.770833          11.625000  \n",
       "53                 0.250000         471.250000           3.791667  \n",
       "60                 0.304348         337.045455           4.136364  \n",
       "64                 0.259259         309.571429           3.619048  \n",
       "111                0.428571         559.428571           4.000000  \n",
       "...                     ...                ...                ...  \n",
       "19981              0.000000          22.000000           1.000000  \n",
       "19984              0.000000         242.000000           4.000000  \n",
       "19985              1.000000          40.000000           0.000000  \n",
       "19987              0.000000           0.000000           0.000000  \n",
       "19991              0.000000         642.000000           3.000000  \n",
       "\n",
       "[2895 rows x 7 columns]"
      ]
     },
     "execution_count": 130,
     "metadata": {},
     "output_type": "execute_result"
    }
   ],
   "source": [
    "#pull randomly 100 search quereies from the GA raw report. Repalce 'edit' with the search term you want.\n",
    "pd.options.display.max_rows = 100\n",
    "pd.set_option('display.max_colwidth', 400)\n",
    "st_card = data[data['search_term'].str.contains('card')].iloc[:,1]"
   ]
  },
  {
   "cell_type": "code",
   "execution_count": 51,
   "metadata": {},
   "outputs": [],
   "source": [
    "word_list_100.to_csv(r'/users/mzimmermann/Documents/Work/ANZ_search_terms/word_list_100.csv')"
   ]
  },
  {
   "cell_type": "code",
   "execution_count": 50,
   "metadata": {},
   "outputs": [
    {
     "data": {
      "text/plain": [
       "card         2897\n",
       "order        2528\n",
       "business     1736\n",
       "change       1641\n",
       "design       1406\n",
       "             ... \n",
       "photobook     104\n",
       "domain        104\n",
       "looking       103\n",
       "history       102\n",
       "dont          101\n",
       "Length: 129, dtype: int64"
      ]
     },
     "execution_count": 50,
     "metadata": {},
     "output_type": "execute_result"
    }
   ],
   "source": [
    "word_list_100"
   ]
  },
  {
   "cell_type": "code",
   "execution_count": 54,
   "metadata": {},
   "outputs": [
    {
     "data": {
      "text/plain": [
       "0                                                                                                                          size\n",
       "1                                                                                                                      shipping\n",
       "2                                                                                                                       payment\n",
       "3                                                                                                                   tax invoice\n",
       "4                                                                                                                      delivery\n",
       "                                                                  ...                                                          \n",
       "19995                                                                                  your contract number is missing a number\n",
       "19996                                                                                       your design studio isn't working...\n",
       "19997                                                                                                             your holidays\n",
       "19998                          your image was not uploaded because of an unknown error. try again, or upload a different image.\n",
       "19999    your new website is extremely frustrating and difficult to navigate from a customer who's dealt with you for 11 years!\n",
       "Name: SearchTerm, Length: 20000, dtype: object"
      ]
     },
     "execution_count": 54,
     "metadata": {},
     "output_type": "execute_result"
    }
   ],
   "source": [
    "df['SearchTerm']"
   ]
  },
  {
   "cell_type": "code",
   "execution_count": null,
   "metadata": {},
   "outputs": [],
   "source": [
    "st.to_csv(r'/users/mzimmermann/Documents/Work/ANZ_search_terms/word_list_100.csv')"
   ]
  },
  {
   "cell_type": "code",
   "execution_count": 153,
   "metadata": {},
   "outputs": [],
   "source": [
    "data[data['search_term'].str.contains('project')].iloc[:,0:2].to_excel(r'/users/mzimmermann/Documents/Work/ANZ_search_terms/st_list/project.xlsx', index=False)"
   ]
  },
  {
   "cell_type": "code",
   "execution_count": 152,
   "metadata": {},
   "outputs": [],
   "source": [
    "data[data['search_term'].str.contains('print')].iloc[:,0:2].to_excel(r'/users/mzimmermann/Documents/Work/ANZ_search_terms/st_list/print.xlsx', index=False)\n",
    "data[data['search_term'].str.contains('image')].iloc[:,0:2].to_excel(r'/users/mzimmermann/Documents/Work/ANZ_search_terms/st_list/image.xlsx', index=False)\n",
    "data[data['search_term'].str.contains('address')].iloc[:,0:2].to_excel(r'/users/mzimmermann/Documents/Work/ANZ_search_terms/st_list/address.xlsx', index=False)\n",
    "data[data['search_term'].str.contains('background')].iloc[:,0:2].to_excel(r'/users/mzimmermann/Documents/Work/ANZ_search_terms/st_list/background.xlsx', index=False)\n",
    "data[data['search_term'].str.contains('edit')].iloc[:,0:2].to_excel(r'/users/mzimmermann/Documents/Work/ANZ_search_terms/st_list/edit.xlsx', index=False)\n",
    "\n",
    "data[data['search_term'].str.contains('print')].iloc[:,0:2].to_excel(r'/users/mzimmermann/Documents/Work/ANZ_search_terms/st_list/print.xlsx', index=False)\n",
    "data[data['search_term'].str.contains('sticker')].iloc[:,0:2].to_excel(r'/users/mzimmermann/Documents/Work/ANZ_search_terms/st_list/sticker.xlsx', index=False)\n",
    "data[data['search_term'].str.contains('delivery')].iloc[:,0:2].to_excel(r'/users/mzimmermann/Documents/Work/ANZ_search_terms/st_list/delivery.xlsx', index=False)"
   ]
  },
  {
   "cell_type": "code",
   "execution_count": 154,
   "metadata": {},
   "outputs": [],
   "source": [
    "data[data['search_term'].str.contains('upload')].iloc[:,0:2].to_excel(r'/users/mzimmermann/Documents/Work/ANZ_search_terms/st_list/upload.xlsx', index=False)"
   ]
  },
  {
   "cell_type": "code",
   "execution_count": 155,
   "metadata": {},
   "outputs": [],
   "source": [
    "data[data['search_term'].str.contains('background')].iloc[:,0:2].to_excel(r'/users/mzimmermann/Documents/Work/ANZ_search_terms/st_list/background.xlsx', index=False)"
   ]
  },
  {
   "cell_type": "code",
   "execution_count": 156,
   "metadata": {},
   "outputs": [],
   "source": [
    "data[data['search_term'].str.contains('book')].iloc[:,0:2].to_excel(r'/users/mzimmermann/Documents/Work/ANZ_search_terms/st_list/book.xlsx', index=False)\n",
    "data[data['search_term'].str.contains('text')].iloc[:,0:2].to_excel(r'/users/mzimmermann/Documents/Work/ANZ_search_terms/st_list/text.xlsx', index=False)"
   ]
  },
  {
   "cell_type": "code",
   "execution_count": null,
   "metadata": {},
   "outputs": [],
   "source": []
  }
 ],
 "metadata": {
  "kernelspec": {
   "display_name": "Python 3",
   "language": "python",
   "name": "python3"
  },
  "language_info": {
   "codemirror_mode": {
    "name": "ipython",
    "version": 3
   },
   "file_extension": ".py",
   "mimetype": "text/x-python",
   "name": "python",
   "nbconvert_exporter": "python",
   "pygments_lexer": "ipython3",
   "version": "3.8.5"
  }
 },
 "nbformat": 4,
 "nbformat_minor": 4
}
