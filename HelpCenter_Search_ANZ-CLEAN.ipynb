{
 "cells": [
  {
   "cell_type": "code",
   "execution_count": 24,
   "metadata": {},
   "outputs": [],
   "source": [
    "#import library for analysis\n",
    "import pandas as pd\n",
    "#WordNetLemmatizer for reducing inflection in words to their root form\n",
    "from nltk.stem import WordNetLemmatizer\n",
    "#stopwords \n",
    "from nltk.corpus import stopwords
    "#splits a string using a regular expression\n",
    "from nltk.tokenize import RegexpTokenizer\n",
    "import string"
   ]
  },
  {
   "cell_type": "code",
   "execution_count": 25,
   "metadata": {},
   "outputs": [],
   "source": [
    "#assigning stop words (english library) to variable\n",
    "sw = stopwords.words('english')"
   ]
  },
  {
   "cell_type": "code",
   "execution_count": 70,
   "metadata": {},
   "outputs": [
    {
     "data": {
      "text/html": [
       "<div>\n",
       "<style scoped>\n",
       "    .dataframe tbody tr th:only-of-type {\n",
       "        vertical-align: middle;\n",
       "    }\n",
       "\n",
       "    .dataframe tbody tr th {\n",
       "        vertical-align: top;\n",
       "    }\n",
       "\n",
       "    .dataframe thead th {\n",
       "        text-align: right;\n",
       "    }\n",
       "</style>\n",
       "<table border=\"1\" class=\"dataframe\">\n",
       "  <thead>\n",
       "    <tr style=\"text-align: right;\">\n",
       "      <th></th>\n",
       "      <th>Search Term</th>\n",
       "      <th>Search Results Number (cd72)</th>\n",
       "      <th>Total Unique Searches</th>\n",
       "      <th>Results Pageviews / Search</th>\n",
       "    </tr>\n",
       "  </thead>\n",
       "  <tbody>\n",
       "    <tr>\n",
       "      <th>1132</th>\n",
       "      <td>wrong address</td>\n",
       "      <td>10.0</td>\n",
       "      <td>1</td>\n",
       "      <td>1.0000</td>\n",
       "    </tr>\n",
       "    <tr>\n",
       "      <th>1133</th>\n",
       "      <td>wrong design</td>\n",
       "      <td>10.0</td>\n",
       "      <td>1</td>\n",
       "      <td>1.0000</td>\n",
       "    </tr>\n",
       "    <tr>\n",
       "      <th>1134</th>\n",
       "      <td>wrong order details received</td>\n",
       "      <td>10.0</td>\n",
       "      <td>1</td>\n",
       "      <td>1.0000</td>\n",
       "    </tr>\n",
       "    <tr>\n",
       "      <th>1135</th>\n",
       "      <td>you are not authorized to sign in (oauth).</td>\n",
       "      <td>10.0</td>\n",
       "      <td>1</td>\n",
       "      <td>1.0000</td>\n",
       "    </tr>\n",
       "    <tr>\n",
       "      <th>1136</th>\n",
       "      <td>you've taken my money, where is confirmation o...</td>\n",
       "      <td>10.0</td>\n",
       "      <td>1</td>\n",
       "      <td>2.0000</td>\n",
       "    </tr>\n",
       "    <tr>\n",
       "      <th>1137</th>\n",
       "      <td>your site will not bring up my order history.....</td>\n",
       "      <td>10.0</td>\n",
       "      <td>1</td>\n",
       "      <td>1.0000</td>\n",
       "    </tr>\n",
       "    <tr>\n",
       "      <th>1138</th>\n",
       "      <td>your website builder is difficult how do i cha...</td>\n",
       "      <td>10.0</td>\n",
       "      <td>1</td>\n",
       "      <td>4.0000</td>\n",
       "    </tr>\n",
       "    <tr>\n",
       "      <th>1139</th>\n",
       "      <td>zip pay</td>\n",
       "      <td>2.0</td>\n",
       "      <td>1</td>\n",
       "      <td>1.0000</td>\n",
       "    </tr>\n",
       "    <tr>\n",
       "      <th>1140</th>\n",
       "      <td>zippay</td>\n",
       "      <td>0.0</td>\n",
       "      <td>1</td>\n",
       "      <td>1.0000</td>\n",
       "    </tr>\n",
       "    <tr>\n",
       "      <th>1141</th>\n",
       "      <td>NaN</td>\n",
       "      <td>NaN</td>\n",
       "      <td>1257</td>\n",
       "      <td>1.3214</td>\n",
       "    </tr>\n",
       "  </tbody>\n",
       "</table>\n",
       "</div>"
      ],
      "text/plain": [
       "                                            Search Term  \\\n",
       "1132                                      wrong address   \n",
       "1133                                       wrong design   \n",
       "1134                       wrong order details received   \n",
       "1135         you are not authorized to sign in (oauth).   \n",
       "1136  you've taken my money, where is confirmation o...   \n",
       "1137  your site will not bring up my order history.....   \n",
       "1138  your website builder is difficult how do i cha...   \n",
       "1139                                            zip pay   \n",
       "1140                                             zippay   \n",
       "1141                                                NaN   \n",
       "\n",
       "      Search Results Number (cd72)  Total Unique Searches  \\\n",
       "1132                          10.0                      1   \n",
       "1133                          10.0                      1   \n",
       "1134                          10.0                      1   \n",
       "1135                          10.0                      1   \n",
       "1136                          10.0                      1   \n",
       "1137                          10.0                      1   \n",
       "1138                          10.0                      1   \n",
       "1139                           2.0                      1   \n",
       "1140                           0.0                      1   \n",
       "1141                           NaN                   1257   \n",
       "\n",
       "      Results Pageviews / Search  \n",
       "1132                      1.0000  \n",
       "1133                      1.0000  \n",
       "1134                      1.0000  \n",
       "1135                      1.0000  \n",
       "1136                      2.0000  \n",
       "1137                      1.0000  \n",
       "1138                      4.0000  \n",
       "1139                      1.0000  \n",
       "1140                      1.0000  \n",
       "1141                      1.3214  "
      ]
     },
     "execution_count": 70,
     "metadata": {},
     "output_type": "execute_result"
    }
   ],
   "source": [
    "#read raw GA report\n",
    "data = pd.read_excel('/Users/mzimmermann/Downloads/Analytics 04. Vistaprint NP - Prod - ANZ HC Search Terms ANZ 20210404-20210410.xlsx', sheet_name='Dataset1')\n",
    "data.tail(10)"
   ]
  },
  {
   "cell_type": "code",
   "execution_count": 71,
   "metadata": {},
   "outputs": [],
   "source": [
    "# cols lower case and spaces repalced with underscore\n",
    "cols = []\n",
    "for i in range(len(data.columns)):\n",
    "    cols.append(data.columns[i].lower().replace(' ','_'))\n",
    "data.columns = cols"
   ]
  },
  {
   "cell_type": "code",
   "execution_count": 72,
   "metadata": {},
   "outputs": [],
   "source": [
    "#selecting col SearchTerm\n",
    "df = data.iloc[:, 0][:-1]\n",
    "#removing last row(summary)\n",
    "df = df[:-1]"
   ]
  },
  {
   "cell_type": "code",
   "execution_count": 73,
   "metadata": {},
   "outputs": [],
   "source": [
    "#function to remove punctuation from search terms ('.', ',' ect)\n",
    "def remove_punctuation(text):\n",
    "    no_punct = ''.join([c for c in text if c not in string.punctuation])\n",
    "    return no_punct"
   ]
  },
  {
   "cell_type": "code",
   "execution_count": 74,
   "metadata": {},
   "outputs": [],
   "source": [
    "#applying function row by row\n",
    "df = df.apply(lambda x: remove_punctuation(x))"
   ]
  },
  {
   "cell_type": "code",
   "execution_count": 75,
   "metadata": {},
   "outputs": [],
   "source": [
    "#split strings\n",
    "tokenizer = RegexpTokenizer(r'\\w+')\n",
    "df = df.apply(lambda x: tokenizer.tokenize(x.lower()))"
   ]
  },
  {
   "cell_type": "code",
   "execution_count": 76,
   "metadata": {},
   "outputs": [],
   "source": [
    "#function to remove stop words\n",
    "def remove_stopwords(text):\n",
    "    words =  [w for w in text if w not in stopwords.words('english')]\n",
    "    return words"
   ]
  },
  {
   "cell_type": "code",
   "execution_count": 77,
   "metadata": {},
   "outputs": [],
   "source": [
    "#applying function row by row\n",
    "df = df.apply(lambda x: remove_stopwords(x))\n"
   ]
  },
  {
   "cell_type": "code",
   "execution_count": 78,
   "metadata": {},
   "outputs": [],
   "source": [
    "lemmatizer = WordNetLemmatizer()\n",
    "#function to iterate through the column\n",
    "def word_lemmatizer(text):\n",
    "    lem_text = ' '.join([lemmatizer.lemmatize(i) for i in text])\n",
    "    return lem_text"
   ]
  },
  {
   "cell_type": "code",
   "execution_count": 79,
   "metadata": {},
   "outputs": [],
   "source": [
    "#lemmatize the word to the word root\n",
    "df = df.apply(lambda x: word_lemmatizer(x))"
   ]
  },
  {
   "cell_type": "code",
   "execution_count": 80,
   "metadata": {},
   "outputs": [],
   "source": [
    "#looping through column and storing values to a list\n",
    "text = []\n",
    "for i in df:\n",
    "    text.append(i)"
   ]
  },
  {
   "cell_type": "code",
   "execution_count": 81,
   "metadata": {},
   "outputs": [],
   "source": [
    "#creating one string in order to visualize a wordcloud\n",
    "unique_str = (\" \").join(text)"
   ]
  },
  {
   "cell_type": "code",
   "execution_count": 82,
   "metadata": {},
   "outputs": [],
   "source": [
    "#importing wordcloud for visualization\n",
    "from wordcloud import WordCloud\n",
    "import matplotlib.pyplot as plt"
   ]
  },
  {
   "cell_type": "code",
   "execution_count": 83,
   "metadata": {},
   "outputs": [],
   "source": [
    "#splitting into multiple strings for barplot visualization\n",
    "word_list = pd.DataFrame(unique_str.split())"
   ]
  },
  {
   "cell_type": "code",
   "execution_count": 84,
   "metadata": {},
   "outputs": [],
   "source": [
    "#barplot where count is greater than 100\n",
    "#word_list.value_counts()[word_list.value_counts()>25].plot(kind='bar')"
   ]
  },
  {
   "cell_type": "code",
   "execution_count": 85,
   "metadata": {},
   "outputs": [],
   "source": [
    "#function to count words\n",
    "def word_count_func(str):\n",
    "    counts = dict()\n",
    "    words = str.split()\n",
    "\n",
    "    for word in words:\n",
    "        if word in counts:\n",
    "            counts[word] += 1\n",
    "        else:\n",
    "            counts[word] = 1\n",
    "\n",
    "    return counts"
   ]
  },
  {
   "cell_type": "code",
   "execution_count": 86,
   "metadata": {},
   "outputs": [],
   "source": [
    "#applying function to the unique_str\n",
    "word_count = word_count_func(unique_str)"
   ]
  },
  {
   "cell_type": "markdown",
   "metadata": {},
   "source": [
    "# STOP: Update Folder"
   ]
  },
  {
   "cell_type": "code",
   "execution_count": 87,
   "metadata": {},
   "outputs": [],
   "source": [
    "#storing top 50 words based on count to variable\n",
    "ANZ_search_terms_clean = search_terms_ordered.head(50)\n",
    "#save file (UPDATE FOLDER)\n",
    "ANZ_search_terms_clean.to_excel(r'/users/mzimmermann/Documents/Work/ANZ_search_terms/Week15/ANZ_search_terms_clean.xlsx', index=False)"
   ]
  },
  {
   "cell_type": "code",
   "execution_count": 88,
   "metadata": {},
   "outputs": [
    {
     "data": {
      "text/html": [
       "<div>\n",
       "<style scoped>\n",
       "    .dataframe tbody tr th:only-of-type {\n",
       "        vertical-align: middle;\n",
       "    }\n",
       "\n",
       "    .dataframe tbody tr th {\n",
       "        vertical-align: top;\n",
       "    }\n",
       "\n",
       "    .dataframe thead th {\n",
       "        text-align: right;\n",
       "    }\n",
       "</style>\n",
       "<table border=\"1\" class=\"dataframe\">\n",
       "  <thead>\n",
       "    <tr style=\"text-align: right;\">\n",
       "      <th></th>\n",
       "      <th>search_term</th>\n",
       "      <th>search_results_number_(cd72)</th>\n",
       "      <th>total_unique_searches</th>\n",
       "      <th>results_pageviews_/_search</th>\n",
       "    </tr>\n",
       "  </thead>\n",
       "  <tbody>\n",
       "    <tr>\n",
       "      <th>0</th>\n",
       "      <td>payment</td>\n",
       "      <td>6.0</td>\n",
       "      <td>7</td>\n",
       "      <td>1.0</td>\n",
       "    </tr>\n",
       "    <tr>\n",
       "      <th>1</th>\n",
       "      <td>shipping</td>\n",
       "      <td>5.0</td>\n",
       "      <td>6</td>\n",
       "      <td>1.0</td>\n",
       "    </tr>\n",
       "    <tr>\n",
       "      <th>2</th>\n",
       "      <td>delivery</td>\n",
       "      <td>7.0</td>\n",
       "      <td>5</td>\n",
       "      <td>1.0</td>\n",
       "    </tr>\n",
       "    <tr>\n",
       "      <th>3</th>\n",
       "      <td>email</td>\n",
       "      <td>10.0</td>\n",
       "      <td>5</td>\n",
       "      <td>1.2</td>\n",
       "    </tr>\n",
       "    <tr>\n",
       "      <th>4</th>\n",
       "      <td>sign in</td>\n",
       "      <td>10.0</td>\n",
       "      <td>5</td>\n",
       "      <td>1.6</td>\n",
       "    </tr>\n",
       "  </tbody>\n",
       "</table>\n",
       "</div>"
      ],
      "text/plain": [
       "  search_term  search_results_number_(cd72)  total_unique_searches  \\\n",
       "0     payment                           6.0                      7   \n",
       "1    shipping                           5.0                      6   \n",
       "2    delivery                           7.0                      5   \n",
       "3       email                          10.0                      5   \n",
       "4     sign in                          10.0                      5   \n",
       "\n",
       "   results_pageviews_/_search  \n",
       "0                         1.0  \n",
       "1                         1.0  \n",
       "2                         1.0  \n",
       "3                         1.2  \n",
       "4                         1.6  "
      ]
     },
     "execution_count": 88,
     "metadata": {},
     "output_type": "execute_result"
    }
   ],
   "source": [
    "#reading orignal GA data to compare with ANZ_search\n",
    "data1 = data[:-1]\n",
    "data1.head()"
   ]
  },
  {
   "cell_type": "code",
   "execution_count": 89,
   "metadata": {},
   "outputs": [
    {
     "data": {
      "text/html": [
       "<div>\n",
       "<style scoped>\n",
       "    .dataframe tbody tr th:only-of-type {\n",
       "        vertical-align: middle;\n",
       "    }\n",
       "\n",
       "    .dataframe tbody tr th {\n",
       "        vertical-align: top;\n",
       "    }\n",
       "\n",
       "    .dataframe thead th {\n",
       "        text-align: right;\n",
       "    }\n",
       "</style>\n",
       "<table border=\"1\" class=\"dataframe\">\n",
       "  <thead>\n",
       "    <tr style=\"text-align: right;\">\n",
       "      <th></th>\n",
       "      <th>search_term</th>\n",
       "      <th>count</th>\n",
       "    </tr>\n",
       "  </thead>\n",
       "  <tbody>\n",
       "    <tr>\n",
       "      <th>0</th>\n",
       "      <td>card</td>\n",
       "      <td>165</td>\n",
       "    </tr>\n",
       "    <tr>\n",
       "      <th>1</th>\n",
       "      <td>change</td>\n",
       "      <td>107</td>\n",
       "    </tr>\n",
       "    <tr>\n",
       "      <th>2</th>\n",
       "      <td>business</td>\n",
       "      <td>105</td>\n",
       "    </tr>\n",
       "    <tr>\n",
       "      <th>3</th>\n",
       "      <td>order</td>\n",
       "      <td>102</td>\n",
       "    </tr>\n",
       "    <tr>\n",
       "      <th>4</th>\n",
       "      <td>design</td>\n",
       "      <td>85</td>\n",
       "    </tr>\n",
       "    <tr>\n",
       "      <th>5</th>\n",
       "      <td>size</td>\n",
       "      <td>72</td>\n",
       "    </tr>\n",
       "    <tr>\n",
       "      <th>6</th>\n",
       "      <td>colour</td>\n",
       "      <td>59</td>\n",
       "    </tr>\n",
       "    <tr>\n",
       "      <th>7</th>\n",
       "      <td>add</td>\n",
       "      <td>51</td>\n",
       "    </tr>\n",
       "    <tr>\n",
       "      <th>8</th>\n",
       "      <td>shirt</td>\n",
       "      <td>40</td>\n",
       "    </tr>\n",
       "    <tr>\n",
       "      <th>9</th>\n",
       "      <td>back</td>\n",
       "      <td>40</td>\n",
       "    </tr>\n",
       "    <tr>\n",
       "      <th>10</th>\n",
       "      <td>image</td>\n",
       "      <td>40</td>\n",
       "    </tr>\n",
       "    <tr>\n",
       "      <th>11</th>\n",
       "      <td>want</td>\n",
       "      <td>34</td>\n",
       "    </tr>\n",
       "    <tr>\n",
       "      <th>12</th>\n",
       "      <td>get</td>\n",
       "      <td>33</td>\n",
       "    </tr>\n",
       "    <tr>\n",
       "      <th>13</th>\n",
       "      <td>sticker</td>\n",
       "      <td>32</td>\n",
       "    </tr>\n",
       "    <tr>\n",
       "      <th>14</th>\n",
       "      <td>upload</td>\n",
       "      <td>32</td>\n",
       "    </tr>\n",
       "  </tbody>\n",
       "</table>\n",
       "</div>"
      ],
      "text/plain": [
       "   search_term  count\n",
       "0         card    165\n",
       "1       change    107\n",
       "2     business    105\n",
       "3        order    102\n",
       "4       design     85\n",
       "5         size     72\n",
       "6       colour     59\n",
       "7          add     51\n",
       "8        shirt     40\n",
       "9         back     40\n",
       "10       image     40\n",
       "11        want     34\n",
       "12         get     33\n",
       "13     sticker     32\n",
       "14      upload     32"
      ]
     },
     "execution_count": 89,
     "metadata": {},
     "output_type": "execute_result"
    }
   ],
   "source": [
    "ANZ_search_terms_clean.head(15)"
   ]
  },
  {
   "cell_type": "markdown",
   "metadata": {},
   "source": [
    "# STOP: Update Folder"
   ]
  },
  {
   "cell_type": "code",
   "execution_count": 90,
   "metadata": {},
   "outputs": [],
   "source": [
    "writer = pd.ExcelWriter(r'/users/mzimmermann/Documents/Work/ANZ_search_terms/Week15/ANZ_search_extended.xlsx')\n",
    "\n",
    "data1[data1['search_term'].str.contains('card')].to_excel(writer,'card',index=False)\n",
    "data1[data1['search_term'].str.contains('order')].to_excel(writer,'order',index=False)\n",
    "data1[data1['search_term'].str.contains('change')].to_excel(writer,'change',index=False)\n",
    "data1[data1['search_term'].str.contains('design')].to_excel(writer,'design',index=False)\n",
    "data1[data1['search_term'].str.contains('size')].to_excel(writer,'size',index=False)\n",
    "data1[data1['search_term'].str.contains('add')].to_excel(writer,'add',index=False)\n",
    "data1[data1['search_term'].str.contains('want')].to_excel(writer,'want',index=False)\n",
    "data1[data1['search_term'].str.contains('colour')].to_excel(writer,'colour',index=False)\n",
    "data1[data1['search_term'].str.contains('shirt')].to_excel(writer,'photo',index=False)\n",
    "data1[data1['search_term'].str.contains('image')].to_excel(writer,'address',index=False)\n",
    "data1[data1['search_term'].str.contains('delivery')].to_excel(writer,'delivery',index=False)\n",
    "#here the top 2 from GA report\n",
    "data1[data1['search_term'].str.contains('payment')].to_excel(writer,'shipping',index=False)\n",
    "data1[data1['search_term'].str.contains('email')].to_excel(writer,'sample',index=False)\n",
    "\n",
    "\n",
    "writer.save()"
   ]
  },
  {
   "cell_type": "code",
   "execution_count": null,
   "metadata": {},
   "outputs": [],
   "source": []
  }
 ],
 "metadata": {
  "kernelspec": {
   "display_name": "Python 3",
   "language": "python",
   "name": "python3"
  },
  "language_info": {
   "codemirror_mode": {
    "name": "ipython",
    "version": 3
   },
   "file_extension": ".py",
   "mimetype": "text/x-python",
   "name": "python",
   "nbconvert_exporter": "python",
   "pygments_lexer": "ipython3",
   "version": "3.8.5"
  }
 },
 "nbformat": 4,
 "nbformat_minor": 4
}
