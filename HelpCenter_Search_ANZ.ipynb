{
 "cells": [
  {
   "cell_type": "code",
   "execution_count": 1,
   "metadata": {},
   "outputs": [],
   "source": [
    "#import library for analysis\n",
    "import pandas as pd\n",
    "#WordNetLemmatizer for reducing inflection in words to their root form\n",
    "from nltk.stem import WordNetLemmatizer\n",
    "#stopwords \n",
    "from nltk.corpus import stopwords\n",
    "#splits a string using a regular expression\n",
    "from nltk.tokenize import RegexpTokenizer\n",
    "import string"
   ]
  },
  {
   "cell_type": "code",
   "execution_count": 2,
   "metadata": {},
   "outputs": [],
   "source": [
    "#assigning stop words (english library) to variable\n",
    "sw = stopwords.words('english')"
   ]
  },
  {
   "cell_type": "code",
   "execution_count": 3,
   "metadata": {},
   "outputs": [
    {
     "data": {
      "text/html": [
       "<div>\n",
       "<style scoped>\n",
       "    .dataframe tbody tr th:only-of-type {\n",
       "        vertical-align: middle;\n",
       "    }\n",
       "\n",
       "    .dataframe tbody tr th {\n",
       "        vertical-align: top;\n",
       "    }\n",
       "\n",
       "    .dataframe thead th {\n",
       "        text-align: right;\n",
       "    }\n",
       "</style>\n",
       "<table border=\"1\" class=\"dataframe\">\n",
       "  <thead>\n",
       "    <tr style=\"text-align: right;\">\n",
       "      <th></th>\n",
       "      <th>SearchTerm</th>\n",
       "    </tr>\n",
       "  </thead>\n",
       "  <tbody>\n",
       "    <tr>\n",
       "      <th>4990</th>\n",
       "      <td>how do i add color on my stickers</td>\n",
       "    </tr>\n",
       "    <tr>\n",
       "      <th>4991</th>\n",
       "      <td>how do i add colour to a business card?</td>\n",
       "    </tr>\n",
       "    <tr>\n",
       "      <th>4992</th>\n",
       "      <td>how do i add colour to my business card design</td>\n",
       "    </tr>\n",
       "    <tr>\n",
       "      <th>4993</th>\n",
       "      <td>how do i add colour to the background</td>\n",
       "    </tr>\n",
       "    <tr>\n",
       "      <th>4994</th>\n",
       "      <td>how do i add delivery method?</td>\n",
       "    </tr>\n",
       "    <tr>\n",
       "      <th>4995</th>\n",
       "      <td>how do i add documents to my website for download</td>\n",
       "    </tr>\n",
       "    <tr>\n",
       "      <th>4996</th>\n",
       "      <td>how do i add embossing to my business card</td>\n",
       "    </tr>\n",
       "    <tr>\n",
       "      <th>4997</th>\n",
       "      <td>how do i add express checkout</td>\n",
       "    </tr>\n",
       "    <tr>\n",
       "      <th>4998</th>\n",
       "      <td>how do i add express shipping to my order</td>\n",
       "    </tr>\n",
       "    <tr>\n",
       "      <th>4999</th>\n",
       "      <td>how do i add eyelets and make this an outdoor ...</td>\n",
       "    </tr>\n",
       "  </tbody>\n",
       "</table>\n",
       "</div>"
      ],
      "text/plain": [
       "                                             SearchTerm\n",
       "4990                  how do i add color on my stickers\n",
       "4991            how do i add colour to a business card?\n",
       "4992     how do i add colour to my business card design\n",
       "4993              how do i add colour to the background\n",
       "4994                      how do i add delivery method?\n",
       "4995  how do i add documents to my website for download\n",
       "4996         how do i add embossing to my business card\n",
       "4997                      how do i add express checkout\n",
       "4998          how do i add express shipping to my order\n",
       "4999  how do i add eyelets and make this an outdoor ..."
      ]
     },
     "execution_count": 3,
     "metadata": {},
     "output_type": "execute_result"
    }
   ],
   "source": [
    "#read raw GA report\n",
    "df = pd.read_excel('GA_ANZ_search.xlsx')\n",
    "df.tail(10)"
   ]
  },
  {
   "cell_type": "code",
   "execution_count": 4,
   "metadata": {},
   "outputs": [],
   "source": [
    "#function to remove punctuation from search terms ('.', ',' ect)\n",
    "def remove_punctuation(text):\n",
    "    no_punct = ''.join([c for c in text if c not in string.punctuation])\n",
    "    return no_punct"
   ]
  },
  {
   "cell_type": "code",
   "execution_count": 5,
   "metadata": {},
   "outputs": [
    {
     "data": {
      "text/plain": [
       "0                                                    size\n",
       "1                                             tax invoice\n",
       "2                                                template\n",
       "3                                                shipping\n",
       "4                                                 payment\n",
       "                              ...                        \n",
       "4995    how do i add documents to my website for download\n",
       "4996           how do i add embossing to my business card\n",
       "4997                        how do i add express checkout\n",
       "4998            how do i add express shipping to my order\n",
       "4999    how do i add eyelets and make this an outdoor ...\n",
       "Name: SearchTerm, Length: 5000, dtype: object"
      ]
     },
     "execution_count": 5,
     "metadata": {},
     "output_type": "execute_result"
    }
   ],
   "source": [
    "#applying function row by row\n",
    "df['SearchTerm'] = df['SearchTerm'].apply(lambda x: remove_punctuation(x))\n",
    "df['SearchTerm']"
   ]
  },
  {
   "cell_type": "code",
   "execution_count": 6,
   "metadata": {},
   "outputs": [
    {
     "data": {
      "text/plain": [
       "0                                                  [size]\n",
       "1                                          [tax, invoice]\n",
       "2                                              [template]\n",
       "3                                              [shipping]\n",
       "4                                               [payment]\n",
       "                              ...                        \n",
       "4995    [how, do, i, add, documents, to, my, website, ...\n",
       "4996    [how, do, i, add, embossing, to, my, business,...\n",
       "4997                 [how, do, i, add, express, checkout]\n",
       "4998    [how, do, i, add, express, shipping, to, my, o...\n",
       "4999    [how, do, i, add, eyelets, and, make, this, an...\n",
       "Name: SearchTerm, Length: 5000, dtype: object"
      ]
     },
     "execution_count": 6,
     "metadata": {},
     "output_type": "execute_result"
    }
   ],
   "source": [
    "#split strings\n",
    "tokenizer = RegexpTokenizer(r'\\w+')\n",
    "df['SearchTerm'] = df['SearchTerm'].apply(lambda x: tokenizer.tokenize(x.lower()))\n",
    "df['SearchTerm']"
   ]
  },
  {
   "cell_type": "code",
   "execution_count": 7,
   "metadata": {},
   "outputs": [],
   "source": [
    "#function to remove stop words\n",
    "def remove_stopwords(text):\n",
    "    words =  [w for w in text if w not in stopwords.words('english')]\n",
    "    return words"
   ]
  },
  {
   "cell_type": "code",
   "execution_count": 8,
   "metadata": {},
   "outputs": [
    {
     "data": {
      "text/plain": [
       "0                                      [size]\n",
       "1                              [tax, invoice]\n",
       "2                                  [template]\n",
       "3                                  [shipping]\n",
       "4                                   [payment]\n",
       "                        ...                  \n",
       "4995      [add, documents, website, download]\n",
       "4996         [add, embossing, business, card]\n",
       "4997                 [add, express, checkout]\n",
       "4998          [add, express, shipping, order]\n",
       "4999    [add, eyelets, make, outdoor, banner]\n",
       "Name: SearchTerm, Length: 5000, dtype: object"
      ]
     },
     "execution_count": 8,
     "metadata": {},
     "output_type": "execute_result"
    }
   ],
   "source": [
    "#applying function row by row\n",
    "df['SearchTerm'] = df['SearchTerm'].apply(lambda x: remove_stopwords(x))\n",
    "df['SearchTerm']"
   ]
  },
  {
   "cell_type": "code",
   "execution_count": 9,
   "metadata": {},
   "outputs": [],
   "source": [
    "lemmatizer = WordNetLemmatizer()\n",
    "#function to iterate through the column\n",
    "def word_lemmatizer(text):\n",
    "    lem_text = ' '.join([lemmatizer.lemmatize(i) for i in text])\n",
    "    return lem_text"
   ]
  },
  {
   "cell_type": "code",
   "execution_count": 10,
   "metadata": {},
   "outputs": [
    {
     "data": {
      "text/plain": [
       "0                                 size\n",
       "1                          tax invoice\n",
       "2                             template\n",
       "3                             shipping\n",
       "4                              payment\n",
       "                     ...              \n",
       "4995     add document website download\n",
       "4996       add embossing business card\n",
       "4997              add express checkout\n",
       "4998        add express shipping order\n",
       "4999    add eyelet make outdoor banner\n",
       "Name: SearchTerm, Length: 5000, dtype: object"
      ]
     },
     "execution_count": 10,
     "metadata": {},
     "output_type": "execute_result"
    }
   ],
   "source": [
    "#lemmatize the word to the word root\n",
    "df['SearchTerm'] = df['SearchTerm'].apply(lambda x: word_lemmatizer(x))\n",
    "df['SearchTerm']"
   ]
  },
  {
   "cell_type": "code",
   "execution_count": 11,
   "metadata": {},
   "outputs": [],
   "source": [
    "#looping through column and storing values to a list\n",
    "text = []\n",
    "for i in df['SearchTerm']:\n",
    "    text.append(i)"
   ]
  },
  {
   "cell_type": "code",
   "execution_count": 14,
   "metadata": {},
   "outputs": [],
   "source": [
    "#creating one string in order to visualize a wordcloud\n",
    "unique_str = (\" \").join(text)"
   ]
  },
  {
   "cell_type": "code",
   "execution_count": 15,
   "metadata": {},
   "outputs": [],
   "source": [
    "#importing wordcloud for visualization\n",
    "from wordcloud import WordCloud\n",
    "import matplotlib.pyplot as plt"
   ]
  },
  {
   "cell_type": "code",
   "execution_count": 16,
   "metadata": {},
   "outputs": [
    {
     "data": {
      "image/png": "[encoded data removed]",
      "text/plain": [
       "<Figure size 720x360 with 1 Axes>"
      ]
     },
     "metadata": {
      "needs_background": "light"
     },
     "output_type": "display_data"
    }
   ],
   "source": [
    "# show 50 words in the wordcloud\n",
    "wordcloud = WordCloud(width=500, height=500, max_words=50).generate(unique_str)\n",
    "plt.figure(figsize=(10,5))\n",
    "# plot the WordCloud image \n",
    "\n",
    "plt.imshow(wordcloud)\n",
    "plt.axis(\"off\")\n",
    "plt.margins(x=0, y=0)\n",
    "plt.show()"
   ]
  },
  {
   "cell_type": "code",
   "execution_count": 17,
   "metadata": {},
   "outputs": [],
   "source": [
    "#splitting into multiple strings for barplot visualization\n",
    "word_list = pd.DataFrame(unique_str.split())"
   ]
  },
  {
   "cell_type": "code",
   "execution_count": 18,
   "metadata": {},
   "outputs": [
    {
     "data": {
      "text/plain": [
       "<AxesSubplot:xlabel='0'>"
      ]
     },
     "execution_count": 18,
     "metadata": {},
     "output_type": "execute_result"
    },
    {
     "data": {
      "image/png": "[encoded data removed]",
      "text/plain": [
       "<Figure size 432x288 with 1 Axes>"
      ]
     },
     "metadata": {
      "needs_background": "light"
     },
     "output_type": "display_data"
    }
   ],
   "source": [
    "#barplot where count is greater than 100\n",
    "word_list.value_counts()[word_list.value_counts()>100].plot(kind='bar')"
   ]
  },
  {
   "cell_type": "code",
   "execution_count": 19,
   "metadata": {},
   "outputs": [],
   "source": [
    "#function to count words\n",
    "def word_count_func(str):\n",
    "    counts = dict()\n",
    "    words = str.split()\n",
    "\n",
    "    for word in words:\n",
    "        if word in counts:\n",
    "            counts[word] += 1\n",
    "        else:\n",
    "            counts[word] = 1\n",
    "\n",
    "    return counts"
   ]
  },
  {
   "cell_type": "code",
   "execution_count": 20,
   "metadata": {},
   "outputs": [],
   "source": [
    "#applying function to the unique_str\n",
    "word_count = word_count_func(unique_str)"
   ]
  },
  {
   "cell_type": "code",
   "execution_count": 21,
   "metadata": {},
   "outputs": [
    {
     "data": {
      "text/plain": [
       "dict"
      ]
     },
     "execution_count": 21,
     "metadata": {},
     "output_type": "execute_result"
    }
   ],
   "source": [
    "type(word_count)"
   ]
  },
  {
   "cell_type": "code",
   "execution_count": 22,
   "metadata": {},
   "outputs": [],
   "source": [
    "#converting dict to a dataframe\n",
    "search_terms = pd.DataFrame(word_count.items())\n",
    "#renaming columns\n",
    "search_terms.columns = ['search_term', 'count']\n",
    "#sorting dataframe decending and reset index\n",
    "search_terms_ordered = search_terms.sort_values(['count'], ascending=False).reset_index(drop=True)"
   ]
  },
  {
   "cell_type": "code",
   "execution_count": 23,
   "metadata": {},
   "outputs": [],
   "source": [
    "#storing top 50 words based on count to variable\n",
    "ANZ_top50 = search_terms_ordered.head(50)"
   ]
  },
  {
   "cell_type": "code",
   "execution_count": 24,
   "metadata": {},
   "outputs": [],
   "source": [
    "#saving file as a csv\n",
    "ANZ_top50.to_csv(r'/users/mzimmermann/Documents/ANZ_search_terms/ANZ_top50.csv', index = False)"
   ]
  },
  {
   "cell_type": "code",
   "execution_count": 25,
   "metadata": {},
   "outputs": [
    {
     "data": {
      "text/html": [
       "<div>\n",
       "<style scoped>\n",
       "    .dataframe tbody tr th:only-of-type {\n",
       "        vertical-align: middle;\n",
       "    }\n",
       "\n",
       "    .dataframe tbody tr th {\n",
       "        vertical-align: top;\n",
       "    }\n",
       "\n",
       "    .dataframe thead th {\n",
       "        text-align: right;\n",
       "    }\n",
       "</style>\n",
       "<table border=\"1\" class=\"dataframe\">\n",
       "  <thead>\n",
       "    <tr style=\"text-align: right;\">\n",
       "      <th></th>\n",
       "      <th>SearchTerm</th>\n",
       "    </tr>\n",
       "  </thead>\n",
       "  <tbody>\n",
       "    <tr>\n",
       "      <th>0</th>\n",
       "      <td>size</td>\n",
       "    </tr>\n",
       "    <tr>\n",
       "      <th>1</th>\n",
       "      <td>tax invoice</td>\n",
       "    </tr>\n",
       "    <tr>\n",
       "      <th>2</th>\n",
       "      <td>template</td>\n",
       "    </tr>\n",
       "    <tr>\n",
       "      <th>3</th>\n",
       "      <td>shipping</td>\n",
       "    </tr>\n",
       "    <tr>\n",
       "      <th>4</th>\n",
       "      <td>payment</td>\n",
       "    </tr>\n",
       "  </tbody>\n",
       "</table>\n",
       "</div>"
      ],
      "text/plain": [
       "    SearchTerm\n",
       "0         size\n",
       "1  tax invoice\n",
       "2     template\n",
       "3     shipping\n",
       "4      payment"
      ]
     },
     "execution_count": 25,
     "metadata": {},
     "output_type": "execute_result"
    }
   ],
   "source": [
    "#reading orignal GA data to compare with ANZ_top50\n",
    "df_original = df\n",
    "df_original.head()"
   ]
  },
  {
   "cell_type": "code",
   "execution_count": null,
   "metadata": {},
   "outputs": [],
   "source": [
    "#pull randomly 100 search quereies from the GA raw report. Repalce 'edit' with the search term you want.\n",
    "pd.options.display.max_rows = 100\n",
    "pd.set_option('display.max_colwidth', 400)\n",
    "df_original[df_original['SearchTerm'].str.contains('edit')].sample(n=100)"
   ]
  },
  {
   "cell_type": "code",
   "execution_count": null,
   "metadata": {},
   "outputs": [],
   "source": []
  },
  {
   "cell_type": "code",
   "execution_count": null,
   "metadata": {},
   "outputs": [],
   "source": []
  }
 ],
 "metadata": {
  "kernelspec": {
   "display_name": "Python 3",
   "language": "python",
   "name": "python3"
  },
  "language_info": {
   "codemirror_mode": {
    "name": "ipython",
    "version": 3
   },
   "file_extension": ".py",
   "mimetype": "text/x-python",
   "name": "python",
   "nbconvert_exporter": "python",
   "pygments_lexer": "ipython3",
   "version": "3.8.5"
  }
 },
 "nbformat": 4,
 "nbformat_minor": 4
}
