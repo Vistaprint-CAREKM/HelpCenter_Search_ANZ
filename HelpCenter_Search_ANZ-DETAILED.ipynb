{
 "cells": [
  {
   "cell_type": "code",
   "execution_count": 189,
   "metadata": {},
   "outputs": [],
   "source": [
    "#import library for analysis\n",
    "import pandas as pd\n",
    "#WordNetLemmatizer for reducing inflection in words to their root form\n",
    "from nltk.stem import WordNetLemmatizer\n",
    "#stopwords \n",
    "from nltk.corpus import stopwords\n",
    "#splits a string using a regular expression\n",
    "from nltk.tokenize import RegexpTokenizer\n",
    "import string"
   ]
  },
  {
   "cell_type": "code",
   "execution_count": 190,
   "metadata": {},
   "outputs": [],
   "source": [
    "#assigning stop words (english library) to variable\n",
    "sw = stopwords.words('english')"
   ]
  },
  {
   "cell_type": "code",
   "execution_count": 191,
   "metadata": {},
   "outputs": [
    {
     "data": {
      "text/html": [
       "<div>\n",
       "<style scoped>\n",
       "    .dataframe tbody tr th:only-of-type {\n",
       "        vertical-align: middle;\n",
       "    }\n",
       "\n",
       "    .dataframe tbody tr th {\n",
       "        vertical-align: top;\n",
       "    }\n",
       "\n",
       "    .dataframe thead th {\n",
       "        text-align: right;\n",
       "    }\n",
       "</style>\n",
       "<table border=\"1\" class=\"dataframe\">\n",
       "  <thead>\n",
       "    <tr style=\"text-align: right;\">\n",
       "      <th></th>\n",
       "      <th>Search Term</th>\n",
       "      <th>Search Results Number (cd72)</th>\n",
       "      <th>Total Unique Searches</th>\n",
       "      <th>Results Pageviews / Search</th>\n",
       "    </tr>\n",
       "  </thead>\n",
       "  <tbody>\n",
       "    <tr>\n",
       "      <th>1167</th>\n",
       "      <td>wrong products delivered</td>\n",
       "      <td>10.0</td>\n",
       "      <td>1</td>\n",
       "      <td>1.000000</td>\n",
       "    </tr>\n",
       "    <tr>\n",
       "      <th>1168</th>\n",
       "      <td>wrong sign</td>\n",
       "      <td>10.0</td>\n",
       "      <td>1</td>\n",
       "      <td>1.000000</td>\n",
       "    </tr>\n",
       "    <tr>\n",
       "      <th>1169</th>\n",
       "      <td>wrong size</td>\n",
       "      <td>10.0</td>\n",
       "      <td>1</td>\n",
       "      <td>1.000000</td>\n",
       "    </tr>\n",
       "    <tr>\n",
       "      <th>1170</th>\n",
       "      <td>you are advertising on channel nine australia. why are you using an american ascent? very offensive.</td>\n",
       "      <td>10.0</td>\n",
       "      <td>1</td>\n",
       "      <td>1.000000</td>\n",
       "    </tr>\n",
       "    <tr>\n",
       "      <th>1171</th>\n",
       "      <td>you change the size of mask gradients</td>\n",
       "      <td>10.0</td>\n",
       "      <td>1</td>\n",
       "      <td>1.000000</td>\n",
       "    </tr>\n",
       "    <tr>\n",
       "      <th>1172</th>\n",
       "      <td>you have the back of the card in the order aswell what i have put threw</td>\n",
       "      <td>10.0</td>\n",
       "      <td>1</td>\n",
       "      <td>1.000000</td>\n",
       "    </tr>\n",
       "    <tr>\n",
       "      <th>1173</th>\n",
       "      <td>you must be logged in</td>\n",
       "      <td>10.0</td>\n",
       "      <td>1</td>\n",
       "      <td>1.000000</td>\n",
       "    </tr>\n",
       "    <tr>\n",
       "      <th>1174</th>\n",
       "      <td>you’re note pads are they really so expensive like $10</td>\n",
       "      <td>10.0</td>\n",
       "      <td>1</td>\n",
       "      <td>1.000000</td>\n",
       "    </tr>\n",
       "    <tr>\n",
       "      <th>1175</th>\n",
       "      <td>zippay</td>\n",
       "      <td>0.0</td>\n",
       "      <td>1</td>\n",
       "      <td>1.000000</td>\n",
       "    </tr>\n",
       "    <tr>\n",
       "      <th>1176</th>\n",
       "      <td>NaN</td>\n",
       "      <td>NaN</td>\n",
       "      <td>1300</td>\n",
       "      <td>1.342308</td>\n",
       "    </tr>\n",
       "  </tbody>\n",
       "</table>\n",
       "</div>"
      ],
      "text/plain": [
       "                                                                                               Search Term  \\\n",
       "1167                                                                              wrong products delivered   \n",
       "1168                                                                                            wrong sign   \n",
       "1169                                                                                            wrong size   \n",
       "1170  you are advertising on channel nine australia. why are you using an american ascent? very offensive.   \n",
       "1171                                                                 you change the size of mask gradients   \n",
       "1172                               you have the back of the card in the order aswell what i have put threw   \n",
       "1173                                                                                 you must be logged in   \n",
       "1174                                                you’re note pads are they really so expensive like $10   \n",
       "1175                                                                                                zippay   \n",
       "1176                                                                                                   NaN   \n",
       "\n",
       "      Search Results Number (cd72)  Total Unique Searches  \\\n",
       "1167                          10.0                      1   \n",
       "1168                          10.0                      1   \n",
       "1169                          10.0                      1   \n",
       "1170                          10.0                      1   \n",
       "1171                          10.0                      1   \n",
       "1172                          10.0                      1   \n",
       "1173                          10.0                      1   \n",
       "1174                          10.0                      1   \n",
       "1175                           0.0                      1   \n",
       "1176                           NaN                   1300   \n",
       "\n",
       "      Results Pageviews / Search  \n",
       "1167                    1.000000  \n",
       "1168                    1.000000  \n",
       "1169                    1.000000  \n",
       "1170                    1.000000  \n",
       "1171                    1.000000  \n",
       "1172                    1.000000  \n",
       "1173                    1.000000  \n",
       "1174                    1.000000  \n",
       "1175                    1.000000  \n",
       "1176                    1.342308  "
      ]
     },
     "execution_count": 191,
     "metadata": {},
     "output_type": "execute_result"
    }
   ],
   "source": [
    "#read raw GA report\n",
    "data = pd.read_excel('/Users/mzimmermann/Downloads/Analytics 04. Vistaprint NP - Prod - ANZ HC Search Terms ANZ 20210425-20210502.xlsx', sheet_name='Dataset1')\n",
    "data.tail(10)"
   ]
  },
  {
   "cell_type": "code",
   "execution_count": 192,
   "metadata": {},
   "outputs": [],
   "source": [
    "# cols lower case and spaces repalced with underscore\n",
    "cols = []\n",
    "for i in range(len(data.columns)):\n",
    "    cols.append(data.columns[i].lower().replace(' ','_'))\n",
    "data.columns = cols"
   ]
  },
  {
   "cell_type": "code",
   "execution_count": 193,
   "metadata": {},
   "outputs": [],
   "source": [
    "#selecting col SearchTerm\n",
    "df = data.iloc[:, 0][:-1]\n",
    "#removing last row(summary)\n",
    "df = df[:-1]"
   ]
  },
  {
   "cell_type": "code",
   "execution_count": 194,
   "metadata": {},
   "outputs": [
    {
     "data": {
      "text/plain": [
       "0                                                                                                   shipping\n",
       "1                                                                                                      order\n",
       "2                                                                                                     sample\n",
       "3                                                                                   change background colour\n",
       "4                                                                                             delete account\n",
       "                                                        ...                                                 \n",
       "1170    you are advertising on channel nine australia. why are you using an american ascent? very offensive.\n",
       "1171                                                                   you change the size of mask gradients\n",
       "1172                                 you have the back of the card in the order aswell what i have put threw\n",
       "1173                                                                                   you must be logged in\n",
       "1174                                                  you’re note pads are they really so expensive like $10\n",
       "Name: search_term, Length: 1175, dtype: object"
      ]
     },
     "execution_count": 194,
     "metadata": {},
     "output_type": "execute_result"
    }
   ],
   "source": [
    "df"
   ]
  },
  {
   "cell_type": "code",
   "execution_count": 195,
   "metadata": {},
   "outputs": [],
   "source": [
    "#function to remove punctuation from search terms ('.', ',' ect)\n",
    "def remove_punctuation(text):\n",
    "    no_punct = ''.join([c for c in text if c not in string.punctuation])\n",
    "    return no_punct"
   ]
  },
  {
   "cell_type": "code",
   "execution_count": 196,
   "metadata": {},
   "outputs": [
    {
     "data": {
      "text/plain": [
       "['search_term',\n",
       " 'search_results_number_(cd72)',\n",
       " 'total_unique_searches',\n",
       " 'results_pageviews_/_search']"
      ]
     },
     "execution_count": 196,
     "metadata": {},
     "output_type": "execute_result"
    }
   ],
   "source": [
    "cols"
   ]
  },
  {
   "cell_type": "code",
   "execution_count": 197,
   "metadata": {},
   "outputs": [
    {
     "data": {
      "text/plain": [
       "0                                                                                                shipping\n",
       "1                                                                                                   order\n",
       "2                                                                                                  sample\n",
       "3                                                                                change background colour\n",
       "4                                                                                          delete account\n",
       "                                                      ...                                                \n",
       "1170    you are advertising on channel nine australia why are you using an american ascent very offensive\n",
       "1171                                                                you change the size of mask gradients\n",
       "1172                              you have the back of the card in the order aswell what i have put threw\n",
       "1173                                                                                you must be logged in\n",
       "1174                                                you’re note pads are they really so expensive like 10\n",
       "Name: search_term, Length: 1175, dtype: object"
      ]
     },
     "execution_count": 197,
     "metadata": {},
     "output_type": "execute_result"
    }
   ],
   "source": [
    "#applying function row by row\n",
    "df = df.apply(lambda x: remove_punctuation(x))\n",
    "df"
   ]
  },
  {
   "cell_type": "code",
   "execution_count": 198,
   "metadata": {},
   "outputs": [
    {
     "data": {
      "text/plain": [
       "0                                                                                                               [shipping]\n",
       "1                                                                                                                  [order]\n",
       "2                                                                                                                 [sample]\n",
       "3                                                                                             [change, background, colour]\n",
       "4                                                                                                        [delete, account]\n",
       "                                                               ...                                                        \n",
       "1170    [you, are, advertising, on, channel, nine, australia, why, are, you, using, an, american, ascent, very, offensive]\n",
       "1171                                                                         [you, change, the, size, of, mask, gradients]\n",
       "1172                              [you, have, the, back, of, the, card, in, the, order, aswell, what, i, have, put, threw]\n",
       "1173                                                                                           [you, must, be, logged, in]\n",
       "1174                                                     [you, re, note, pads, are, they, really, so, expensive, like, 10]\n",
       "Name: search_term, Length: 1175, dtype: object"
      ]
     },
     "execution_count": 198,
     "metadata": {},
     "output_type": "execute_result"
    }
   ],
   "source": [
    "#split strings\n",
    "tokenizer = RegexpTokenizer(r'\\w+')\n",
    "df = df.apply(lambda x: tokenizer.tokenize(x.lower()))\n",
    "df"
   ]
  },
  {
   "cell_type": "code",
   "execution_count": 199,
   "metadata": {},
   "outputs": [],
   "source": [
    "#function to remove stop words\n",
    "def remove_stopwords(text):\n",
    "    words =  [w for w in text if w not in stopwords.words('english')]\n",
    "    return words"
   ]
  },
  {
   "cell_type": "code",
   "execution_count": 200,
   "metadata": {},
   "outputs": [
    {
     "data": {
      "text/plain": [
       "0                                                                        [shipping]\n",
       "1                                                                           [order]\n",
       "2                                                                          [sample]\n",
       "3                                                      [change, background, colour]\n",
       "4                                                                 [delete, account]\n",
       "                                           ...                                     \n",
       "1170    [advertising, channel, nine, australia, using, american, ascent, offensive]\n",
       "1171                                                [change, size, mask, gradients]\n",
       "1172                                        [back, card, order, aswell, put, threw]\n",
       "1173                                                                 [must, logged]\n",
       "1174                                      [note, pads, really, expensive, like, 10]\n",
       "Name: search_term, Length: 1175, dtype: object"
      ]
     },
     "execution_count": 200,
     "metadata": {},
     "output_type": "execute_result"
    }
   ],
   "source": [
    "#applying function row by row\n",
    "df = df.apply(lambda x: remove_stopwords(x))\n",
    "df"
   ]
  },
  {
   "cell_type": "code",
   "execution_count": 201,
   "metadata": {},
   "outputs": [],
   "source": [
    "lemmatizer = WordNetLemmatizer()\n",
    "#function to iterate through the column\n",
    "def word_lemmatizer(text):\n",
    "    lem_text = ' '.join([lemmatizer.lemmatize(i) for i in text])\n",
    "    return lem_text"
   ]
  },
  {
   "cell_type": "code",
   "execution_count": 202,
   "metadata": {},
   "outputs": [
    {
     "data": {
      "text/plain": [
       "0                                                                 shipping\n",
       "1                                                                    order\n",
       "2                                                                   sample\n",
       "3                                                 change background colour\n",
       "4                                                           delete account\n",
       "                                       ...                                \n",
       "1170    advertising channel nine australia using american ascent offensive\n",
       "1171                                             change size mask gradient\n",
       "1172                                      back card order aswell put threw\n",
       "1173                                                           must logged\n",
       "1174                                     note pad really expensive like 10\n",
       "Name: search_term, Length: 1175, dtype: object"
      ]
     },
     "execution_count": 202,
     "metadata": {},
     "output_type": "execute_result"
    }
   ],
   "source": [
    "#lemmatize the word to the word root\n",
    "df = df.apply(lambda x: word_lemmatizer(x))\n",
    "df"
   ]
  },
  {
   "cell_type": "code",
   "execution_count": 203,
   "metadata": {},
   "outputs": [],
   "source": [
    "#looping through column and storing values to a list\n",
    "text = []\n",
    "for i in df:\n",
    "    text.append(i)"
   ]
  },
  {
   "cell_type": "code",
   "execution_count": 204,
   "metadata": {},
   "outputs": [],
   "source": [
    "#creating one string in order to visualize a wordcloud\n",
    "unique_str = (\" \").join(text)"
   ]
  },
  {
   "cell_type": "code",
   "execution_count": 205,
   "metadata": {},
   "outputs": [],
   "source": [
    "#importing wordcloud for visualization\n",
    "from wordcloud import WordCloud\n",
    "import matplotlib.pyplot as plt"
   ]
  },
  {
   "cell_type": "code",
   "execution_count": 206,
   "metadata": {},
   "outputs": [
    {
     "data": {
      "image/png": "[encoded data removed]",
      "text/plain": [
       "<Figure size 720x360 with 1 Axes>"
      ]
     },
     "metadata": {
      "needs_background": "light"
     },
     "output_type": "display_data"
    }
   ],
   "source": [
    "# show 50 words in the wordcloud\n",
    "wordcloud = WordCloud(width=500, height=500, max_words=50).generate(unique_str)\n",
    "plt.figure(figsize=(10,5))\n",
    "# plot the WordCloud image \n",
    "\n",
    "plt.imshow(wordcloud)\n",
    "plt.axis(\"off\")\n",
    "plt.margins(x=0, y=0)\n",
    "plt.show()"
   ]
  },
  {
   "cell_type": "code",
   "execution_count": 207,
   "metadata": {},
   "outputs": [],
   "source": [
    "#splitting into multiple strings for barplot visualization\n",
    "word_list = pd.DataFrame(unique_str.split())"
   ]
  },
  {
   "cell_type": "code",
   "execution_count": 208,
   "metadata": {},
   "outputs": [
    {
     "data": {
      "text/plain": [
       "<AxesSubplot:xlabel='0'>"
      ]
     },
     "execution_count": 208,
     "metadata": {},
     "output_type": "execute_result"
    },
    {
     "data": {
      "image/png": "[encoded data removed]",
      "text/plain": [
       "<Figure size 432x288 with 1 Axes>"
      ]
     },
     "metadata": {
      "needs_background": "light"
     },
     "output_type": "display_data"
    }
   ],
   "source": [
    "#barplot where count is greater than 100\n",
    "word_list.value_counts()[word_list.value_counts()>25].plot(kind='bar')"
   ]
  },
  {
   "cell_type": "code",
   "execution_count": 209,
   "metadata": {},
   "outputs": [],
   "source": [
    "#function to count words\n",
    "def word_count_func(str):\n",
    "    counts = dict()\n",
    "    words = str.split()\n",
    "\n",
    "    for word in words:\n",
    "        if word in counts:\n",
    "            counts[word] += 1\n",
    "        else:\n",
    "            counts[word] = 1\n",
    "\n",
    "    return counts"
   ]
  },
  {
   "cell_type": "code",
   "execution_count": 210,
   "metadata": {},
   "outputs": [],
   "source": [
    "#applying function to the unique_str\n",
    "word_count = word_count_func(unique_str)"
   ]
  },
  {
   "cell_type": "code",
   "execution_count": 211,
   "metadata": {},
   "outputs": [
    {
     "data": {
      "text/plain": [
       "dict"
      ]
     },
     "execution_count": 211,
     "metadata": {},
     "output_type": "execute_result"
    }
   ],
   "source": [
    "type(word_count)"
   ]
  },
  {
   "cell_type": "code",
   "execution_count": 212,
   "metadata": {},
   "outputs": [],
   "source": [
    "#converting dict to a dataframe\n",
    "search_terms = pd.DataFrame(word_count.items())\n",
    "#renaming columns\n",
    "search_terms.columns = ['search_term', 'count']\n",
    "#sorting dataframe decending and reset index\n",
    "search_terms_ordered = search_terms.sort_values(['count'], ascending=False).reset_index(drop=True)"
   ]
  },
  {
   "cell_type": "code",
   "execution_count": 213,
   "metadata": {},
   "outputs": [],
   "source": [
    "#storing top 50 words based on count to variable\n",
    "ANZ_search_terms_clean = search_terms_ordered.head(50)\n",
    "#save file (UPDATE FOLDER)\n",
    "ANZ_search_terms_clean.to_excel(r'/users/mzimmermann/Documents/Work/ANZ_search_terms/Week18/ANZ_search_terms_clean.xlsx', index=False)"
   ]
  },
  {
   "cell_type": "code",
   "execution_count": 214,
   "metadata": {},
   "outputs": [
    {
     "data": {
      "text/html": [
       "<div>\n",
       "<style scoped>\n",
       "    .dataframe tbody tr th:only-of-type {\n",
       "        vertical-align: middle;\n",
       "    }\n",
       "\n",
       "    .dataframe tbody tr th {\n",
       "        vertical-align: top;\n",
       "    }\n",
       "\n",
       "    .dataframe thead th {\n",
       "        text-align: right;\n",
       "    }\n",
       "</style>\n",
       "<table border=\"1\" class=\"dataframe\">\n",
       "  <thead>\n",
       "    <tr style=\"text-align: right;\">\n",
       "      <th></th>\n",
       "      <th>search_term</th>\n",
       "      <th>search_results_number_(cd72)</th>\n",
       "      <th>total_unique_searches</th>\n",
       "      <th>results_pageviews_/_search</th>\n",
       "    </tr>\n",
       "  </thead>\n",
       "  <tbody>\n",
       "    <tr>\n",
       "      <th>0</th>\n",
       "      <td>shipping</td>\n",
       "      <td>10.0</td>\n",
       "      <td>7</td>\n",
       "      <td>1.00</td>\n",
       "    </tr>\n",
       "    <tr>\n",
       "      <th>1</th>\n",
       "      <td>order</td>\n",
       "      <td>10.0</td>\n",
       "      <td>5</td>\n",
       "      <td>1.00</td>\n",
       "    </tr>\n",
       "    <tr>\n",
       "      <th>2</th>\n",
       "      <td>sample</td>\n",
       "      <td>2.0</td>\n",
       "      <td>5</td>\n",
       "      <td>1.00</td>\n",
       "    </tr>\n",
       "    <tr>\n",
       "      <th>3</th>\n",
       "      <td>change background colour</td>\n",
       "      <td>10.0</td>\n",
       "      <td>4</td>\n",
       "      <td>1.00</td>\n",
       "    </tr>\n",
       "    <tr>\n",
       "      <th>4</th>\n",
       "      <td>delete account</td>\n",
       "      <td>10.0</td>\n",
       "      <td>4</td>\n",
       "      <td>1.25</td>\n",
       "    </tr>\n",
       "  </tbody>\n",
       "</table>\n",
       "</div>"
      ],
      "text/plain": [
       "                search_term  search_results_number_(cd72)  \\\n",
       "0                  shipping                          10.0   \n",
       "1                     order                          10.0   \n",
       "2                    sample                           2.0   \n",
       "3  change background colour                          10.0   \n",
       "4            delete account                          10.0   \n",
       "\n",
       "   total_unique_searches  results_pageviews_/_search  \n",
       "0                      7                        1.00  \n",
       "1                      5                        1.00  \n",
       "2                      5                        1.00  \n",
       "3                      4                        1.00  \n",
       "4                      4                        1.25  "
      ]
     },
     "execution_count": 214,
     "metadata": {},
     "output_type": "execute_result"
    }
   ],
   "source": [
    "#reading orignal GA data to compare with ANZ_search\n",
    "data1 = data[:-1]\n",
    "data1.head()"
   ]
  },
  {
   "cell_type": "code",
   "execution_count": 215,
   "metadata": {},
   "outputs": [
    {
     "data": {
      "text/html": [
       "<div>\n",
       "<style scoped>\n",
       "    .dataframe tbody tr th:only-of-type {\n",
       "        vertical-align: middle;\n",
       "    }\n",
       "\n",
       "    .dataframe tbody tr th {\n",
       "        vertical-align: top;\n",
       "    }\n",
       "\n",
       "    .dataframe thead th {\n",
       "        text-align: right;\n",
       "    }\n",
       "</style>\n",
       "<table border=\"1\" class=\"dataframe\">\n",
       "  <thead>\n",
       "    <tr style=\"text-align: right;\">\n",
       "      <th></th>\n",
       "      <th>search_term</th>\n",
       "      <th>search_results_number_(cd72)</th>\n",
       "      <th>total_unique_searches</th>\n",
       "      <th>results_pageviews_/_search</th>\n",
       "    </tr>\n",
       "  </thead>\n",
       "  <tbody>\n",
       "    <tr>\n",
       "      <th>0</th>\n",
       "      <td>shipping</td>\n",
       "      <td>10.0</td>\n",
       "      <td>7</td>\n",
       "      <td>1.000000</td>\n",
       "    </tr>\n",
       "    <tr>\n",
       "      <th>17</th>\n",
       "      <td>shipping</td>\n",
       "      <td>5.0</td>\n",
       "      <td>3</td>\n",
       "      <td>1.666667</td>\n",
       "    </tr>\n",
       "    <tr>\n",
       "      <th>24</th>\n",
       "      <td>can not change shipping method</td>\n",
       "      <td>10.0</td>\n",
       "      <td>2</td>\n",
       "      <td>1.000000</td>\n",
       "    </tr>\n",
       "    <tr>\n",
       "      <th>408</th>\n",
       "      <td>dropshipping</td>\n",
       "      <td>0.0</td>\n",
       "      <td>1</td>\n",
       "      <td>1.000000</td>\n",
       "    </tr>\n",
       "    <tr>\n",
       "      <th>504</th>\n",
       "      <td>hi your price for the business cards is incorrect when in my cart and also no free shipping as stated</td>\n",
       "      <td>10.0</td>\n",
       "      <td>1</td>\n",
       "      <td>1.000000</td>\n",
       "    </tr>\n",
       "    <tr>\n",
       "      <th>542</th>\n",
       "      <td>how do i change shipping</td>\n",
       "      <td>10.0</td>\n",
       "      <td>1</td>\n",
       "      <td>3.000000</td>\n",
       "    </tr>\n",
       "    <tr>\n",
       "      <th>767</th>\n",
       "      <td>international shipping</td>\n",
       "      <td>10.0</td>\n",
       "      <td>1</td>\n",
       "      <td>2.000000</td>\n",
       "    </tr>\n",
       "    <tr>\n",
       "      <th>918</th>\n",
       "      <td>problem with shipping adress</td>\n",
       "      <td>10.0</td>\n",
       "      <td>1</td>\n",
       "      <td>1.000000</td>\n",
       "    </tr>\n",
       "    <tr>\n",
       "      <th>977</th>\n",
       "      <td>shipping</td>\n",
       "      <td>2.0</td>\n",
       "      <td>1</td>\n",
       "      <td>2.000000</td>\n",
       "    </tr>\n",
       "    <tr>\n",
       "      <th>978</th>\n",
       "      <td>shipping</td>\n",
       "      <td>7.0</td>\n",
       "      <td>1</td>\n",
       "      <td>1.000000</td>\n",
       "    </tr>\n",
       "    <tr>\n",
       "      <th>979</th>\n",
       "      <td>shipping adding to my order when i am entitled to free shipping</td>\n",
       "      <td>10.0</td>\n",
       "      <td>1</td>\n",
       "      <td>1.000000</td>\n",
       "    </tr>\n",
       "    <tr>\n",
       "      <th>980</th>\n",
       "      <td>shipping cost</td>\n",
       "      <td>10.0</td>\n",
       "      <td>1</td>\n",
       "      <td>1.000000</td>\n",
       "    </tr>\n",
       "    <tr>\n",
       "      <th>981</th>\n",
       "      <td>shipping speed</td>\n",
       "      <td>6.0</td>\n",
       "      <td>1</td>\n",
       "      <td>1.000000</td>\n",
       "    </tr>\n",
       "    <tr>\n",
       "      <th>982</th>\n",
       "      <td>shipping speed</td>\n",
       "      <td>7.0</td>\n",
       "      <td>1</td>\n",
       "      <td>1.000000</td>\n",
       "    </tr>\n",
       "    <tr>\n",
       "      <th>983</th>\n",
       "      <td>shipping timeline</td>\n",
       "      <td>4.0</td>\n",
       "      <td>1</td>\n",
       "      <td>2.000000</td>\n",
       "    </tr>\n",
       "    <tr>\n",
       "      <th>984</th>\n",
       "      <td>shipping to po box</td>\n",
       "      <td>10.0</td>\n",
       "      <td>1</td>\n",
       "      <td>2.000000</td>\n",
       "    </tr>\n",
       "  </tbody>\n",
       "</table>\n",
       "</div>"
      ],
      "text/plain": [
       "                                                                                               search_term  \\\n",
       "0                                                                                                 shipping   \n",
       "17                                                                                                shipping   \n",
       "24                                                                          can not change shipping method   \n",
       "408                                                                                           dropshipping   \n",
       "504  hi your price for the business cards is incorrect when in my cart and also no free shipping as stated   \n",
       "542                                                                               how do i change shipping   \n",
       "767                                                                                 international shipping   \n",
       "918                                                                           problem with shipping adress   \n",
       "977                                                                                               shipping   \n",
       "978                                                                                               shipping   \n",
       "979                                        shipping adding to my order when i am entitled to free shipping   \n",
       "980                                                                                          shipping cost   \n",
       "981                                                                                         shipping speed   \n",
       "982                                                                                         shipping speed   \n",
       "983                                                                                      shipping timeline   \n",
       "984                                                                                     shipping to po box   \n",
       "\n",
       "     search_results_number_(cd72)  total_unique_searches  \\\n",
       "0                            10.0                      7   \n",
       "17                            5.0                      3   \n",
       "24                           10.0                      2   \n",
       "408                           0.0                      1   \n",
       "504                          10.0                      1   \n",
       "542                          10.0                      1   \n",
       "767                          10.0                      1   \n",
       "918                          10.0                      1   \n",
       "977                           2.0                      1   \n",
       "978                           7.0                      1   \n",
       "979                          10.0                      1   \n",
       "980                          10.0                      1   \n",
       "981                           6.0                      1   \n",
       "982                           7.0                      1   \n",
       "983                           4.0                      1   \n",
       "984                          10.0                      1   \n",
       "\n",
       "     results_pageviews_/_search  \n",
       "0                      1.000000  \n",
       "17                     1.666667  \n",
       "24                     1.000000  \n",
       "408                    1.000000  \n",
       "504                    1.000000  \n",
       "542                    3.000000  \n",
       "767                    2.000000  \n",
       "918                    1.000000  \n",
       "977                    2.000000  \n",
       "978                    1.000000  \n",
       "979                    1.000000  \n",
       "980                    1.000000  \n",
       "981                    1.000000  \n",
       "982                    1.000000  \n",
       "983                    2.000000  \n",
       "984                    2.000000  "
      ]
     },
     "execution_count": 215,
     "metadata": {},
     "output_type": "execute_result"
    }
   ],
   "source": [
    "pd.options.display.max_rows = 500\n",
    "pd.set_option('display.max_colwidth', 400)\n",
    "data1[data1['search_term'].str.contains('shipping')]"
   ]
  },
  {
   "cell_type": "code",
   "execution_count": 216,
   "metadata": {},
   "outputs": [],
   "source": [
    "#data[data['search_term'].str.contains('project')].iloc[:,0:2].to_excel(r'/users/mzimmermann/Documents/Work/ANZ_search_terms/Week18/project.xlsx', index=False)"
   ]
  },
  {
   "cell_type": "code",
   "execution_count": 217,
   "metadata": {},
   "outputs": [
    {
     "data": {
      "text/html": [
       "<div>\n",
       "<style scoped>\n",
       "    .dataframe tbody tr th:only-of-type {\n",
       "        vertical-align: middle;\n",
       "    }\n",
       "\n",
       "    .dataframe tbody tr th {\n",
       "        vertical-align: top;\n",
       "    }\n",
       "\n",
       "    .dataframe thead th {\n",
       "        text-align: right;\n",
       "    }\n",
       "</style>\n",
       "<table border=\"1\" class=\"dataframe\">\n",
       "  <thead>\n",
       "    <tr style=\"text-align: right;\">\n",
       "      <th></th>\n",
       "      <th>search_term</th>\n",
       "      <th>count</th>\n",
       "    </tr>\n",
       "  </thead>\n",
       "  <tbody>\n",
       "    <tr>\n",
       "      <th>0</th>\n",
       "      <td>card</td>\n",
       "      <td>155</td>\n",
       "    </tr>\n",
       "    <tr>\n",
       "      <th>1</th>\n",
       "      <td>order</td>\n",
       "      <td>138</td>\n",
       "    </tr>\n",
       "    <tr>\n",
       "      <th>2</th>\n",
       "      <td>change</td>\n",
       "      <td>96</td>\n",
       "    </tr>\n",
       "    <tr>\n",
       "      <th>3</th>\n",
       "      <td>business</td>\n",
       "      <td>90</td>\n",
       "    </tr>\n",
       "    <tr>\n",
       "      <th>4</th>\n",
       "      <td>design</td>\n",
       "      <td>57</td>\n",
       "    </tr>\n",
       "    <tr>\n",
       "      <th>5</th>\n",
       "      <td>size</td>\n",
       "      <td>49</td>\n",
       "    </tr>\n",
       "    <tr>\n",
       "      <th>6</th>\n",
       "      <td>add</td>\n",
       "      <td>43</td>\n",
       "    </tr>\n",
       "    <tr>\n",
       "      <th>7</th>\n",
       "      <td>want</td>\n",
       "      <td>42</td>\n",
       "    </tr>\n",
       "    <tr>\n",
       "      <th>8</th>\n",
       "      <td>colour</td>\n",
       "      <td>39</td>\n",
       "    </tr>\n",
       "    <tr>\n",
       "      <th>9</th>\n",
       "      <td>photo</td>\n",
       "      <td>33</td>\n",
       "    </tr>\n",
       "    <tr>\n",
       "      <th>10</th>\n",
       "      <td>address</td>\n",
       "      <td>31</td>\n",
       "    </tr>\n",
       "    <tr>\n",
       "      <th>11</th>\n",
       "      <td>delivery</td>\n",
       "      <td>30</td>\n",
       "    </tr>\n",
       "    <tr>\n",
       "      <th>12</th>\n",
       "      <td>cant</td>\n",
       "      <td>30</td>\n",
       "    </tr>\n",
       "    <tr>\n",
       "      <th>13</th>\n",
       "      <td>print</td>\n",
       "      <td>27</td>\n",
       "    </tr>\n",
       "    <tr>\n",
       "      <th>14</th>\n",
       "      <td>edit</td>\n",
       "      <td>27</td>\n",
       "    </tr>\n",
       "  </tbody>\n",
       "</table>\n",
       "</div>"
      ],
      "text/plain": [
       "   search_term  count\n",
       "0         card    155\n",
       "1        order    138\n",
       "2       change     96\n",
       "3     business     90\n",
       "4       design     57\n",
       "5         size     49\n",
       "6          add     43\n",
       "7         want     42\n",
       "8       colour     39\n",
       "9        photo     33\n",
       "10     address     31\n",
       "11    delivery     30\n",
       "12        cant     30\n",
       "13       print     27\n",
       "14        edit     27"
      ]
     },
     "execution_count": 217,
     "metadata": {},
     "output_type": "execute_result"
    }
   ],
   "source": [
    "ANZ_search_terms_clean.head(15)"
   ]
  },
  {
   "cell_type": "code",
   "execution_count": 218,
   "metadata": {},
   "outputs": [],
   "source": [
    "#change folder\n",
    "writer = pd.ExcelWriter(r'/users/mzimmermann/Documents/Work/ANZ_search_terms/Week18/ANZ_search_extended.xlsx')\n",
    "\n",
    "data1[data1['search_term'].str.contains('card')].to_excel(writer,'card',index=False)\n",
    "data1[data1['search_term'].str.contains('order')].to_excel(writer,'order',index=False)\n",
    "data1[data1['search_term'].str.contains('change')].to_excel(writer,'change',index=False)\n",
    "data1[data1['search_term'].str.contains('design')].to_excel(writer,'design',index=False)\n",
    "data1[data1['search_term'].str.contains('size')].to_excel(writer,'size',index=False)\n",
    "data1[data1['search_term'].str.contains('add')].to_excel(writer,'add',index=False)\n",
    "data1[data1['search_term'].str.contains('want')].to_excel(writer,'want',index=False)\n",
    "data1[data1['search_term'].str.contains('colour')].to_excel(writer,'colour',index=False)\n",
    "data1[data1['search_term'].str.contains('photo')].to_excel(writer,'photo',index=False)\n",
    "data1[data1['search_term'].str.contains('address')].to_excel(writer,'address',index=False)\n",
    "data1[data1['search_term'].str.contains('delivery')].to_excel(writer,'delivery',index=False)\n",
    "data1[data1['search_term'].str.contains('shipping')].to_excel(writer,'shipping',index=False)\n",
    "data1[data1['search_term'].str.contains('sample')].to_excel(writer,'sample',index=False)\n",
    "\n",
    "\n",
    "writer.save()"
   ]
  },
  {
   "cell_type": "code",
   "execution_count": null,
   "metadata": {},
   "outputs": [],
   "source": []
  }
 ],
 "metadata": {
  "kernelspec": {
   "display_name": "Python 3",
   "language": "python",
   "name": "python3"
  },
  "language_info": {
   "codemirror_mode": {
    "name": "ipython",
    "version": 3
   },
   "file_extension": ".py",
   "mimetype": "text/x-python",
   "name": "python",
   "nbconvert_exporter": "python",
   "pygments_lexer": "ipython3",
   "version": "3.8.5"
  }
 },
 "nbformat": 4,
 "nbformat_minor": 4
}
